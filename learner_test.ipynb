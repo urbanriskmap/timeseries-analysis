{
 "cells": [
  {
   "cell_type": "code",
   "execution_count": 1,
   "metadata": {},
   "outputs": [
    {
     "name": "stderr",
     "output_type": "stream",
     "text": [
      "2019-08-11 02:06:33,845 - DEBUG - CognicityLoader constructed\n",
      "2019-08-11 02:06:33,847 - DEBUG - GoogleLabeler constructed\n"
     ]
    }
   ],
   "source": [
    "from loaders.cognicity_loader import CognicityLoader\n",
    "from image_recognition.goog_recog import GoogleLabeler\n",
    "from learners.perceptron_learner import PerceptronLearner\n",
    "\n",
    "# import chennai_config\n",
    "# config = chennai_config.config\n",
    "\n",
    "import jakarta_config\n",
    "config = jakarta_config.config\n",
    "\n",
    "goog_learner = PerceptronLearner(config, CognicityLoader, GoogleLabeler)"
   ]
  },
  {
   "cell_type": "code",
   "execution_count": 7,
   "metadata": {},
   "outputs": [],
   "source": [
    "import random\n",
    "validation_set = set(random.sample(config[\"flood_pkeys\"], 10))\n",
    "validation_set = validation_set.union(set(random.sample(config[\"no_flood_pkeys\"], 10)))"
   ]
  },
  {
   "cell_type": "code",
   "execution_count": 3,
   "metadata": {},
   "outputs": [
    {
     "name": "stdout",
     "output_type": "stream",
     "text": [
      "T:  0\n",
      "score:  [[0.66953373]]\n",
      "T:  200\n",
      "score:  [[0.7062019]]\n",
      "T:  400\n",
      "score:  [[0.67949298]]\n",
      "T:  600\n",
      "score:  [[0.6781349]]\n",
      "T:  800\n",
      "score:  [[0.72838388]]\n"
     ]
    },
    {
     "name": "stderr",
     "output_type": "stream",
     "text": [
      "2019-08-11 02:07:17,180 - INFO - Num Correct [[13]] Out of 20\n",
      "2019-08-11 02:07:17,181 - INFO - Val score: [[0.65]]\n"
     ]
    }
   ],
   "source": [
    "th, th0 = goog_learner.run_learner(\"goog_separator.p\", retrain=True, validation_keys=validation_set, params={\"T\":1000, \"print\":True})"
   ]
  },
  {
   "cell_type": "code",
   "execution_count": 8,
   "metadata": {},
   "outputs": [
    {
     "name": "stderr",
     "output_type": "stream",
     "text": [
      "2019-08-11 02:20:13,735 - DEBUG - CognicityLoader constructed\n",
      "2019-08-11 02:20:13,738 - DEBUG - AwsLabeler constructed\n",
      "2019-08-11 02:20:13,744 - DEBUG - logging from: default_jakarta_data/aws_labels_default.p\n"
     ]
    },
    {
     "name": "stdout",
     "output_type": "stream",
     "text": [
      "T:  0\n",
      "score:  [[0.6921684]]\n",
      "T:  200\n",
      "score:  [[0.90946129]]\n",
      "T:  400\n",
      "score:  [[0.89859665]]\n",
      "T:  600\n",
      "score:  [[0.93979176]]\n",
      "T:  800\n",
      "score:  [[0.96785876]]\n"
     ]
    },
    {
     "name": "stderr",
     "output_type": "stream",
     "text": [
      "2019-08-11 02:21:27,603 - INFO - Num Correct [[12]] Out of 20\n",
      "2019-08-11 02:21:27,611 - INFO - Val score: [[0.6]]\n"
     ]
    }
   ],
   "source": [
    "from image_recognition.aws_recog import AwsLabeler\n",
    "aws_learner = PerceptronLearner(config, CognicityLoader, AwsLabeler)\n",
    "th, th0 = aws_learner.run_learner(\"aws_separator.p\", retrain=True, validation_keys=validation_set, params={\"T\":1000, \"print\":True})"
   ]
  },
  {
   "cell_type": "code",
   "execution_count": 5,
   "metadata": {},
   "outputs": [
    {
     "data": {
      "text/plain": [
       "37637"
      ]
     },
     "execution_count": 5,
     "metadata": {},
     "output_type": "execute_result"
    }
   ],
   "source": [
    "aws_labeler = aws_learner.labeler\n",
    "a = aws_labeler.config[\"flood_pkeys\"]\n",
    "b = aws_labeler.config[\"no_flood_pkeys\"]\n",
    "c = a.union(b)\n",
    "max(c)"
   ]
  },
  {
   "cell_type": "code",
   "execution_count": 6,
   "metadata": {},
   "outputs": [
    {
     "name": "stderr",
     "output_type": "stream",
     "text": [
      "2019-08-11 02:08:29,425 - DEBUG - CognicityLoader constructed\n"
     ]
    },
    {
     "name": "stdout",
     "output_type": "stream",
     "text": [
      "T:  0\n",
      "score:  [[0.81695185]]\n",
      "T:  200\n",
      "score:  [[0.94428969]]\n",
      "T:  400\n",
      "score:  [[0.96040589]]\n"
     ]
    },
    {
     "name": "stderr",
     "output_type": "stream",
     "text": [
      "2019-08-11 02:16:05,435 - INFO - Num Correct [[13]] Out of 20\n",
      "2019-08-11 02:16:05,435 - INFO - Val score: [[0.65]]\n"
     ]
    }
   ],
   "source": [
    "from nlp.bow_labeler import BowLabeler\n",
    "bow_learner = PerceptronLearner(config, CognicityLoader, BowLabeler)\n",
    "th, th0 = bow_learner.run_learner(\"bow_separator.p\", retrain=True, validation_keys=validation_set, params={\"T\":1000, \"print\":True})"
   ]
  },
  {
   "cell_type": "code",
   "execution_count": null,
   "metadata": {},
   "outputs": [],
   "source": []
  }
 ],
 "metadata": {
  "kernelspec": {
   "display_name": "_python",
   "language": "python",
   "name": "_python"
  },
  "language_info": {
   "codemirror_mode": {
    "name": "ipython",
    "version": 3
   },
   "file_extension": ".py",
   "mimetype": "text/x-python",
   "name": "python",
   "nbconvert_exporter": "python",
   "pygments_lexer": "ipython3",
   "version": "3.5.2"
  }
 },
 "nbformat": 4,
 "nbformat_minor": 2
}
