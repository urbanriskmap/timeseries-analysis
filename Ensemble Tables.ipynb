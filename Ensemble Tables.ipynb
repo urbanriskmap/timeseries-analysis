{
 "cells": [
  {
   "cell_type": "code",
   "execution_count": 25,
   "metadata": {},
   "outputs": [
    {
     "name": "stdout",
     "output_type": "stream",
     "text": [
      "\\begin{tabular}{llr}\n",
      "\\toprule\n",
      "      dataset &              Learners &  Random 10 fold stratified cross validation \\\\\n",
      " Jakarta 2017 &     Aws,Bow,Bow,Flood &                                        0.74 \\\\\n",
      "\\midrule\n",
      " Chennai 2017 &  Google,Aws,Bow,Flood &                                        0.80 \\\\\n",
      "\\bottomrule\n",
      "\\end{tabular}\n",
      "\n"
     ]
    }
   ],
   "source": [
    "import pandas as pd\n",
    "\n",
    "# StratifiedShuffleSplit for chennai 0.9491\n",
    "\n",
    "xx = \"xx\"\n",
    "table = pd.DataFrame.from_dict({\n",
    "#  0: [\"Jakarta 2017\", \"Aws,Bow\", .73],\n",
    "  0: [\"Jakarta 2017\", \"Aws,Bow,Bow,Flood\", .74],\n",
    "#  5: [\"Chennai 2017\", \"Aws,Bow\", .74],\n",
    "  5: [\"Chennai 2017\", \"Google,Aws,Bow,Flood\", .80], # 0.8067484662576687\n",
    " }, orient=\"index\", columns=[\"dataset\",\"Learners\", \"Random 10 fold stratified cross validation\"]).rename_axis(\"trial\")\n",
    "\n",
    "s = table.to_latex(index=False)\n",
    "print(s)"
   ]
  },
  {
   "cell_type": "code",
   "execution_count": 17,
   "metadata": {},
   "outputs": [
    {
     "ename": "IndentationError",
     "evalue": "unindent does not match any outer indentation level (<tokenize>, line 9)",
     "output_type": "error",
     "traceback": [
      "\u001b[0;36m  File \u001b[0;32m\"<tokenize>\"\u001b[0;36m, line \u001b[0;32m9\u001b[0m\n\u001b[0;31m    Jakarta 2017 &        Bigrams &                                xx &             0.700 \\\\\u001b[0m\n\u001b[0m    ^\u001b[0m\n\u001b[0;31mIndentationError\u001b[0m\u001b[0;31m:\u001b[0m unindent does not match any outer indentation level\n"
     ]
    }
   ],
   "source": [
    "\\tex\n",
    "\\begin{tabular}{lllr}\n",
    "\\toprule\n",
    "      dataset &       Learners & mean 5 fold cross validation acc. &  10\\% held out set \\\\\n",
    " Jakarta 2017 &  Aws,Bow,Flood &                                xx &             0.760 \\\\\n",
    "\\midrule\n",
    " Jakarta 2017 &        Bigrams &                                xx &             0.700 \\\\\n",
    " Chennai 2017 &            BOW &                                xx &             0.800 \\\\\n",
    " Chennai 2017 &        Bigrams &                                xx &             0.801 \\\\\n",
    "\\bottomrule\n",
    "\\end{tabular}\n"
   ]
  },
  {
   "cell_type": "code",
   "execution_count": null,
   "metadata": {},
   "outputs": [],
   "source": [
    "# more complete \n",
    "import pandas as pd\n",
    "\n",
    "xx = \"xx\"\n",
    "table = pd.DataFrame.from_dict({\n",
    "  0: [\"Jakarta 2017\", \"Aws,Bow,Flood\", .76],\n",
    "  1: [\"Jakarta 2017\", \"Aws,Bow\", .825],\n",
    "  2: [\"Jakarta 2017\", \"Aws,Bow\", .8375],\n",
    "    \n",
    "  3: [\"Chennai 2017\", \"Aws,Bow,Flood\", .73],\n",
    "  5: [\"Chennai 2017\", \"Google,Aws,Bow,Flood\", .83],\n",
    "  6: [\"Chennai 2017\", \"Aws,Bow\", .78]\n",
    " }, orient=\"index\", columns=[\"dataset\",\"Learners\", \"10% held out set\"]).rename_axis(\"trial\")\n",
    "\n",
    "s = table.to_latex(index=False)\n",
    "print(s)"
   ]
  }
 ],
 "metadata": {
  "kernelspec": {
   "display_name": "_python",
   "language": "python",
   "name": "_python"
  },
  "language_info": {
   "codemirror_mode": {
    "name": "ipython",
    "version": 3
   },
   "file_extension": ".py",
   "mimetype": "text/x-python",
   "name": "python",
   "nbconvert_exporter": "python",
   "pygments_lexer": "ipython3",
   "version": "3.5.2"
  }
 },
 "nbformat": 4,
 "nbformat_minor": 2
}
