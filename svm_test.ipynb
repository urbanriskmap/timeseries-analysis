{
 "cells": [
  {
   "cell_type": "code",
   "execution_count": 12,
   "metadata": {},
   "outputs": [
    {
     "name": "stderr",
     "output_type": "stream",
     "text": [
      "2019-08-13 10:50:21,078 - DEBUG - CognicityLoader constructed\n",
      "2019-08-13 10:50:21,080 - DEBUG - AwsLabeler constructed\n",
      "2019-08-13 10:50:21,081 - DEBUG - CognicityLoader constructed\n",
      "2019-08-13 10:50:21,083 - DEBUG - AwsLabeler constructed\n",
      "2019-08-13 10:50:21,084 - DEBUG - logging from: default_jakarta_data/aws_labels_default.p\n",
      "2019-08-13 10:50:37,487 - INFO - Num Correct 7 Out of 10\n",
      "2019-08-13 10:50:37,488 - INFO - Val score: 0.7\n"
     ]
    },
    {
     "data": {
      "text/plain": [
       "(array([[ 0.        ,  0.        ,  0.        , ...,  0.        ,\n",
       "          0.        ,  0.        ],\n",
       "        [ 0.        , 24.70741081,  0.        , ...,  0.        ,\n",
       "          0.        ,  0.        ],\n",
       "        [ 0.        ,  0.        ,  0.        , ...,  0.        ,\n",
       "          0.        ,  0.        ],\n",
       "        ...,\n",
       "        [ 0.        ,  0.        ,  0.        , ...,  0.        ,\n",
       "          0.        ,  0.        ],\n",
       "        [22.2561245 , 20.75111961,  0.        , ...,  0.        ,\n",
       "         28.47358704,  0.        ],\n",
       "        [ 0.        ,  0.        ,  0.        , ...,  0.        ,\n",
       "          0.        ,  0.        ]]),\n",
       " array([[-1., -1., -1.,  1.,  1.,  1.,  1.,  1., -1., -1.]]))"
      ]
     },
     "execution_count": 12,
     "metadata": {},
     "output_type": "execute_result"
    }
   ],
   "source": [
    "from loaders.cognicity_loader import CognicityLoader\n",
    "# from image_recognition.aws_recog import AwsLabeler\n",
    "# from image_recognition.goog_recog import GoogleLabeler\n",
    "#import chennai_config\n",
    "#config = chennai_config.config\n",
    "\n",
    "import jakarta_config\n",
    "config = jakarta_config.config\n",
    "from learners.svm_learner import SvmLearner\n",
    "\n",
    "# from nlp.bow_labeler import BowLabeler\n",
    "# learn = SvmLearner(config, CognicityLoader, BowLabeler)\n",
    "\n",
    "\n",
    "from image_recognition.goog_recog import GoogleLabeler\n",
    "learn = SvmLearner(config, CognicityLoader, GoogleLabeler)\n",
    "\n",
    "# from image_recognition.aws_recog import AwsLabeler\n",
    "# learn = SvmLearner(config, CognicityLoader, AwsLabeler)\n",
    "\n",
    "import random\n",
    "validation_set = set(random.sample(config[\"flood_pkeys\"], 5))\n",
    "validation_set = validation_set.union(set(random.sample(config[\"no_flood_pkeys\"], 5)))\n",
    "params = {\"T\":1000}\n",
    "learn.train( params, validation_set)"
   ]
  },
  {
   "cell_type": "code",
   "execution_count": 13,
   "metadata": {},
   "outputs": [
    {
     "data": {
      "text/plain": [
       "array([-1., -1.,  1.,  1.,  1.,  1., -1., -1., -1., -1.])"
      ]
     },
     "execution_count": 13,
     "metadata": {},
     "output_type": "execute_result"
    }
   ],
   "source": [
    "val = learn.val_data_w_pkey[1:,:].T\n",
    "learn.clf.predict(learn.val_data_w_pkey[1:,:].T)"
   ]
  },
  {
   "cell_type": "code",
   "execution_count": 17,
   "metadata": {},
   "outputs": [],
   "source": [
    "dat = learn.t_data_w_pkey[1:,:].T\n",
    "lab = learn.t_labels[0, :]\n",
    "# learn.clf.decision_function(dat)"
   ]
  },
  {
   "cell_type": "code",
   "execution_count": 26,
   "metadata": {},
   "outputs": [
    {
     "data": {
      "text/plain": [
       "GridSearchCV(cv=10, error_score='raise-deprecating',\n",
       "             estimator=SVC(C=1.0, cache_size=200, class_weight=None, coef0=0.0,\n",
       "                           decision_function_shape='ovr', degree=3,\n",
       "                           gamma='auto_deprecated', kernel='rbf', max_iter=-1,\n",
       "                           probability=False, random_state=None, shrinking=True,\n",
       "                           tol=0.001, verbose=False),\n",
       "             iid='warn', n_jobs=5,\n",
       "             param_grid=[{'C': [1, 10, 100, 1000], 'kernel': ['linear']},\n",
       "                         {'C': [1, 10, 100, 1000], 'gamma': [0.001, 0.0001],\n",
       "                          'kernel': ['rbf']}],\n",
       "             pre_dispatch='2*n_jobs', refit=True, return_train_score=False,\n",
       "             scoring=None, verbose=0)"
      ]
     },
     "execution_count": 26,
     "metadata": {},
     "output_type": "execute_result"
    }
   ],
   "source": [
    "from sklearn.model_selection import GridSearchCV\n",
    "from sklearn import svm\n",
    "\n",
    "\n",
    "param_grid = [\n",
    "  {'C': [1, 10, 100, 1000], 'kernel': ['linear']},\n",
    "  {'C': [1, 10, 100, 1000], 'gamma': [0.001, 0.0001], 'kernel': ['rbf']},\n",
    "]\n",
    "\n",
    "cv = GridSearchCV(svm.SVC(), param_grid, cv=10, n_jobs=5)\n",
    "\n",
    "cv.fit(dat, lab)"
   ]
  },
  {
   "cell_type": "code",
   "execution_count": 27,
   "metadata": {},
   "outputs": [
    {
     "data": {
      "text/plain": [
       "['mean_fit_time',\n",
       " 'mean_score_time',\n",
       " 'mean_test_score',\n",
       " 'param_C',\n",
       " 'param_gamma',\n",
       " 'param_kernel',\n",
       " 'params',\n",
       " 'rank_test_score',\n",
       " 'split0_test_score',\n",
       " 'split1_test_score',\n",
       " 'split2_test_score',\n",
       " 'split3_test_score',\n",
       " 'split4_test_score',\n",
       " 'split5_test_score',\n",
       " 'split6_test_score',\n",
       " 'split7_test_score',\n",
       " 'split8_test_score',\n",
       " 'split9_test_score',\n",
       " 'std_fit_time',\n",
       " 'std_score_time',\n",
       " 'std_test_score']"
      ]
     },
     "execution_count": 27,
     "metadata": {},
     "output_type": "execute_result"
    }
   ],
   "source": [
    "sorted(cv.cv_results_.keys())"
   ]
  },
  {
   "cell_type": "code",
   "execution_count": 28,
   "metadata": {},
   "outputs": [
    {
     "data": {
      "text/plain": [
       "{'mean_fit_time': array([16.32301688, 17.03301001, 14.97846949, 16.05208921, 20.93809068,\n",
       "        21.76419857, 20.68259163, 22.29693329, 21.8470614 , 21.72499647,\n",
       "        20.55633793, 20.06107321]),\n",
       " 'mean_score_time': array([0.97471123, 1.08129294, 1.02297051, 1.13616841, 2.21788049,\n",
       "        2.4151747 , 2.39297657, 2.36481414, 2.36193008, 2.32443864,\n",
       "        2.18048482, 2.06993895]),\n",
       " 'mean_test_score': array([0.60342497, 0.60342497, 0.60342497, 0.60342497, 0.52996845,\n",
       "        0.53086976, 0.52996845, 0.53132041, 0.52996845, 0.53132041,\n",
       "        0.52996845, 0.53132041]),\n",
       " 'param_C': masked_array(data=[1, 10, 100, 1000, 1, 1, 10, 10, 100, 100, 1000, 1000],\n",
       "              mask=[False, False, False, False, False, False, False, False,\n",
       "                    False, False, False, False],\n",
       "        fill_value='?',\n",
       "             dtype=object),\n",
       " 'param_gamma': masked_array(data=[--, --, --, --, 0.001, 0.0001, 0.001, 0.0001, 0.001,\n",
       "                    0.0001, 0.001, 0.0001],\n",
       "              mask=[ True,  True,  True,  True, False, False, False, False,\n",
       "                    False, False, False, False],\n",
       "        fill_value='?',\n",
       "             dtype=object),\n",
       " 'param_kernel': masked_array(data=['linear', 'linear', 'linear', 'linear', 'rbf', 'rbf',\n",
       "                    'rbf', 'rbf', 'rbf', 'rbf', 'rbf', 'rbf'],\n",
       "              mask=[False, False, False, False, False, False, False, False,\n",
       "                    False, False, False, False],\n",
       "        fill_value='?',\n",
       "             dtype=object),\n",
       " 'params': [{'C': 1, 'kernel': 'linear'},\n",
       "  {'C': 10, 'kernel': 'linear'},\n",
       "  {'C': 100, 'kernel': 'linear'},\n",
       "  {'C': 1000, 'kernel': 'linear'},\n",
       "  {'C': 1, 'gamma': 0.001, 'kernel': 'rbf'},\n",
       "  {'C': 1, 'gamma': 0.0001, 'kernel': 'rbf'},\n",
       "  {'C': 10, 'gamma': 0.001, 'kernel': 'rbf'},\n",
       "  {'C': 10, 'gamma': 0.0001, 'kernel': 'rbf'},\n",
       "  {'C': 100, 'gamma': 0.001, 'kernel': 'rbf'},\n",
       "  {'C': 100, 'gamma': 0.0001, 'kernel': 'rbf'},\n",
       "  {'C': 1000, 'gamma': 0.001, 'kernel': 'rbf'},\n",
       "  {'C': 1000, 'gamma': 0.0001, 'kernel': 'rbf'}],\n",
       " 'rank_test_score': array([1, 1, 1, 1, 9, 8, 9, 5, 9, 5, 9, 5], dtype=int32),\n",
       " 'split0_test_score': array([0.64573991, 0.64573991, 0.64573991, 0.64573991, 0.52914798,\n",
       "        0.53363229, 0.52914798, 0.53811659, 0.52914798, 0.53811659,\n",
       "        0.52914798, 0.53811659]),\n",
       " 'split1_test_score': array([0.62780269, 0.62780269, 0.62780269, 0.62780269, 0.52914798,\n",
       "        0.52914798, 0.52914798, 0.52914798, 0.52914798, 0.52914798,\n",
       "        0.52914798, 0.52914798]),\n",
       " 'split2_test_score': array([0.65022422, 0.65022422, 0.65022422, 0.65022422, 0.52914798,\n",
       "        0.52914798, 0.52914798, 0.52914798, 0.52914798, 0.52914798,\n",
       "        0.52914798, 0.52914798]),\n",
       " 'split3_test_score': array([0.61261261, 0.61261261, 0.61261261, 0.61261261, 0.53153153,\n",
       "        0.53153153, 0.53153153, 0.53153153, 0.53153153, 0.53153153,\n",
       "        0.53153153, 0.53153153]),\n",
       " 'split4_test_score': array([0.57207207, 0.57207207, 0.57207207, 0.57207207, 0.53153153,\n",
       "        0.53153153, 0.53153153, 0.53153153, 0.53153153, 0.53153153,\n",
       "        0.53153153, 0.53153153]),\n",
       " 'split5_test_score': array([0.61711712, 0.61711712, 0.61711712, 0.61711712, 0.53153153,\n",
       "        0.53153153, 0.53153153, 0.53153153, 0.53153153, 0.53153153,\n",
       "        0.53153153, 0.53153153]),\n",
       " 'split6_test_score': array([0.60180995, 0.60180995, 0.60180995, 0.60180995, 0.52941176,\n",
       "        0.52941176, 0.52941176, 0.52941176, 0.52941176, 0.52941176,\n",
       "        0.52941176, 0.52941176]),\n",
       " 'split7_test_score': array([0.63348416, 0.63348416, 0.63348416, 0.63348416, 0.52941176,\n",
       "        0.53393665, 0.52941176, 0.53393665, 0.52941176, 0.53393665,\n",
       "        0.52941176, 0.53393665]),\n",
       " 'split8_test_score': array([0.5158371 , 0.5158371 , 0.5158371 , 0.5158371 , 0.52941176,\n",
       "        0.52941176, 0.52941176, 0.52941176, 0.52941176, 0.52941176,\n",
       "        0.52941176, 0.52941176]),\n",
       " 'split9_test_score': array([0.55656109, 0.55656109, 0.55656109, 0.55656109, 0.52941176,\n",
       "        0.52941176, 0.52941176, 0.52941176, 0.52941176, 0.52941176,\n",
       "        0.52941176, 0.52941176]),\n",
       " 'std_fit_time': array([0.88262484, 1.50263652, 1.38407758, 1.30071817, 1.83321659,\n",
       "        2.11581626, 2.42238987, 1.77337596, 1.93502631, 2.03648462,\n",
       "        2.32077458, 3.71325201]),\n",
       " 'std_score_time': array([0.17459572, 0.17454218, 0.19383371, 0.16386567, 0.36422708,\n",
       "        0.34098656, 0.35438187, 0.35940988, 0.29732474, 0.3632088 ,\n",
       "        0.32358183, 0.61270719]),\n",
       " 'std_test_score': array([0.04072279, 0.04072279, 0.04072279, 0.04072279, 0.00102942,\n",
       "        0.00175104, 0.00102942, 0.00271547, 0.00102942, 0.00271547,\n",
       "        0.00102942, 0.00271547])}"
      ]
     },
     "execution_count": 28,
     "metadata": {},
     "output_type": "execute_result"
    }
   ],
   "source": [
    "cv.cv_results_"
   ]
  },
  {
   "cell_type": "code",
   "execution_count": 25,
   "metadata": {},
   "outputs": [
    {
     "data": {
      "text/plain": [
       "SVC(C=1, cache_size=200, class_weight=None, coef0=0.0,\n",
       "    decision_function_shape='ovr', degree=3, gamma='auto_deprecated',\n",
       "    kernel='linear', max_iter=-1, probability=False, random_state=None,\n",
       "    shrinking=True, tol=0.001, verbose=False)"
      ]
     },
     "execution_count": 25,
     "metadata": {},
     "output_type": "execute_result"
    }
   ],
   "source": [
    "cv.best_estimator_\n",
    "# for jakarta aws data:\n",
    "# SVC(C=1, cache_size=200, class_weight=None, coef0=0.0,\n",
    "#     decision_function_shape='ovr', degree=3, gamma='auto_deprecated',\n",
    "#     kernel='linear', max_iter=-1, probability=False, random_state=None,\n",
    "#     shrinking=True, tol=0.001, verbose=False)\n",
    "\n",
    "# cv.best_score_ = 0.5971158179360072"
   ]
  },
  {
   "cell_type": "code",
   "execution_count": 29,
   "metadata": {},
   "outputs": [
    {
     "data": {
      "text/plain": [
       "0.6034249662009914"
      ]
     },
     "execution_count": 29,
     "metadata": {},
     "output_type": "execute_result"
    }
   ],
   "source": [
    "cv.best_score_"
   ]
  },
  {
   "cell_type": "code",
   "execution_count": null,
   "metadata": {},
   "outputs": [],
   "source": []
  }
 ],
 "metadata": {
  "kernelspec": {
   "display_name": "_python",
   "language": "python",
   "name": "_python"
  },
  "language_info": {
   "codemirror_mode": {
    "name": "ipython",
    "version": 3
   },
   "file_extension": ".py",
   "mimetype": "text/x-python",
   "name": "python",
   "nbconvert_exporter": "python",
   "pygments_lexer": "ipython3",
   "version": "3.5.2"
  }
 },
 "nbformat": 4,
 "nbformat_minor": 2
}
