{
 "cells": [
  {
   "cell_type": "code",
   "execution_count": 1,
   "metadata": {},
   "outputs": [
    {
     "name": "stderr",
     "output_type": "stream",
     "text": [
      "2019-08-19 09:54:42,574 - DEBUG - CognicityLoader constructed\n",
      "2019-08-19 09:54:42,576 - DEBUG - AwsLabeler constructed\n",
      "2019-08-19 09:54:42,577 - DEBUG - CognicityLoader constructed\n",
      "2019-08-19 09:54:42,577 - DEBUG - AwsLabeler constructed\n",
      "2019-08-19 09:54:42,579 - DEBUG - logging from: default_jakarta_data/aws_labels_default.p\n",
      "2019-08-19 09:54:58,008 - INFO - Num Correct 5 Out of 10\n",
      "2019-08-19 09:54:58,009 - INFO - Val score: 0.5\n"
     ]
    },
    {
     "data": {
      "text/plain": [
       "(array([[ 0.        ,  0.        , 29.2573452 , ...,  0.        ,\n",
       "          0.        ,  0.        ],\n",
       "        [ 0.        ,  0.        ,  0.        , ...,  0.        ,\n",
       "          0.        ,  0.        ],\n",
       "        [ 0.        ,  0.        ,  0.        , ...,  0.        ,\n",
       "          0.        ,  0.        ],\n",
       "        ...,\n",
       "        [ 0.        ,  0.        ,  0.        , ...,  0.        ,\n",
       "          0.        ,  0.        ],\n",
       "        [ 0.        ,  0.        ,  0.        , ...,  0.        ,\n",
       "         34.68480301, 38.1450882 ],\n",
       "        [ 0.        ,  0.        ,  0.        , ...,  0.        ,\n",
       "          0.        ,  0.        ]]),\n",
       " array([[-1., -1., -1.,  1.,  1.,  1.,  1.,  1., -1., -1.]]))"
      ]
     },
     "execution_count": 1,
     "metadata": {},
     "output_type": "execute_result"
    }
   ],
   "source": [
    "from loaders.cognicity_loader import CognicityLoader\n",
    "# from image_recognition.aws_recog import AwsLabeler\n",
    "# from image_recognition.goog_recog import GoogleLabeler\n",
    "#import chennai_config\n",
    "#config = chennai_config.config\n",
    "\n",
    "import jakarta_config\n",
    "config = jakarta_config.config\n",
    "from learners.svm_learner import SvmLearner\n",
    "\n",
    "# from nlp.bow_labeler import BowLabeler\n",
    "# learn = SvmLearner(config, CognicityLoader, BowLabeler)\n",
    "\n",
    "\n",
    "# from image_recognition.goog_recog import GoogleLabeler\n",
    "# learn = SvmLearner(config, CognicityLoader, GoogleLabeler)\n",
    "\n",
    "from image_recognition.aws_recog import AwsLabeler\n",
    "learn = SvmLearner(config, CognicityLoader, AwsLabeler)\n",
    "\n",
    "import random\n",
    "validation_set = set(random.sample(config[\"flood_pkeys\"], 5))\n",
    "validation_set = validation_set.union(set(random.sample(config[\"no_flood_pkeys\"], 5)))\n",
    "params = {\"T\":1000}\n",
    "learn.train( params, validation_set)"
   ]
  },
  {
   "cell_type": "code",
   "execution_count": 2,
   "metadata": {},
   "outputs": [
    {
     "data": {
      "text/plain": [
       "array([  562.,  3800., 12900., 14699., 19880., 23459., 23784., 24985.,\n",
       "       34949., 36565.])"
      ]
     },
     "execution_count": 2,
     "metadata": {},
     "output_type": "execute_result"
    }
   ],
   "source": [
    "learn.val_data_w_pkey[0,:]"
   ]
  },
  {
   "cell_type": "code",
   "execution_count": 3,
   "metadata": {},
   "outputs": [
    {
     "data": {
      "text/plain": [
       "array([ 1.,  1., -1.,  1.,  1., -1.,  1.,  1.,  1.,  1.])"
      ]
     },
     "execution_count": 3,
     "metadata": {},
     "output_type": "execute_result"
    }
   ],
   "source": [
    "val = learn.val_data_w_pkey[1:,:].T\n",
    "learn.clf.predict(learn.val_data_w_pkey[1:,:].T)"
   ]
  },
  {
   "cell_type": "code",
   "execution_count": null,
   "metadata": {},
   "outputs": [],
   "source": []
  },
  {
   "cell_type": "code",
   "execution_count": 4,
   "metadata": {},
   "outputs": [],
   "source": [
    "from sklearn.model_selection import GridSearchCV\n",
    "from sklearn import svm\n",
    "\n",
    "def run_grid_search(learn):\n",
    "    \n",
    "    dat = learn.t_data_w_pkey[1:,:].T\n",
    "    lab = learn.t_labels[0, :]\n",
    "    # learn.clf.decision_function(dat)\n",
    "    \n",
    "    param_grid = [\n",
    "      {'C': [1, 10, 100, 1000], 'kernel': ['linear']},\n",
    "      {'C': [1, 10, 100, 1000], 'kernel': ['poly'], 'degree':[2, 3, 4, 5]},\n",
    "      {'C': [1, 10, 100, 1000], 'gamma': [0.001, 0.0001], 'kernel': ['rbf']},\n",
    "    ]\n",
    "    \n",
    "    cv = GridSearchCV(svm.SVC(), param_grid, cv=5, n_jobs=5)\n",
    "    \n",
    "    cv.fit(dat, lab)\n",
    "    sorted(cv.cv_results_.keys())\n",
    "    cv.cv_results_\n",
    "    \n",
    "    cv.best_estimator_\n",
    "    cv.best_score_\n",
    "    return cv"
   ]
  },
  {
   "cell_type": "code",
   "execution_count": 5,
   "metadata": {},
   "outputs": [
    {
     "name": "stderr",
     "output_type": "stream",
     "text": [
      "2019-08-19 09:55:06,093 - DEBUG - CognicityLoader constructed\n",
      "2019-08-19 09:55:06,094 - DEBUG - GoogleLabeler constructed\n",
      "2019-08-19 09:55:06,095 - DEBUG - CognicityLoader constructed\n",
      "2019-08-19 09:55:06,096 - DEBUG - GoogleLabeler constructed\n",
      "2019-08-19 09:55:14,055 - INFO - Num Correct 8 Out of 9\n",
      "2019-08-19 09:55:14,056 - INFO - Val score: 0.8888888888888888\n",
      "2019-08-19 09:55:17,576 - DEBUG - CognicityLoader constructed\n",
      "2019-08-19 09:55:17,577 - DEBUG - AwsLabeler constructed\n",
      "2019-08-19 09:55:17,578 - DEBUG - CognicityLoader constructed\n",
      "2019-08-19 09:55:17,578 - DEBUG - AwsLabeler constructed\n",
      "2019-08-19 09:55:17,579 - DEBUG - logging from: default_jakarta_data/aws_labels_default.p\n",
      "2019-08-19 09:55:33,356 - INFO - Num Correct 5 Out of 9\n",
      "2019-08-19 09:55:33,357 - INFO - Val score: 0.5555555555555556\n",
      "2019-08-19 09:55:40,981 - DEBUG - CognicityLoader constructed\n",
      "2019-08-19 09:55:40,982 - DEBUG - CognicityLoader constructed\n",
      "2019-08-19 09:56:16,580 - INFO - Num Correct 8 Out of 10\n",
      "2019-08-19 09:56:16,581 - INFO - Val score: 0.8\n"
     ]
    },
    {
     "name": "stdout",
     "output_type": "stream",
     "text": [
      "SVC(C=10, cache_size=200, class_weight=None, coef0=0.0,\n",
      "    decision_function_shape='ovr', degree=3, gamma=0.001, kernel='rbf',\n",
      "    max_iter=-1, probability=False, random_state=None, shrinking=True,\n",
      "    tol=0.001, verbose=False)\n"
     ]
    },
    {
     "name": "stderr",
     "output_type": "stream",
     "text": [
      "/home/abrahamq/timeseries-analysis/_python/lib/python3.5/site-packages/sklearn/svm/base.py:193: FutureWarning: The default value of gamma will change from 'auto' to 'scale' in version 0.22 to account better for unscaled features. Set gamma explicitly to 'auto' or 'scale' to avoid this warning.\n",
      "  \"avoid this warning.\", FutureWarning)\n"
     ]
    },
    {
     "name": "stdout",
     "output_type": "stream",
     "text": [
      "SVC(C=1, cache_size=200, class_weight=None, coef0=0.0,\n",
      "    decision_function_shape='ovr', degree=2, gamma='auto_deprecated',\n",
      "    kernel='poly', max_iter=-1, probability=False, random_state=None,\n",
      "    shrinking=True, tol=0.001, verbose=False)\n",
      "SVC(C=100, cache_size=200, class_weight=None, coef0=0.0,\n",
      "    decision_function_shape='ovr', degree=3, gamma=0.001, kernel='rbf',\n",
      "    max_iter=-1, probability=False, random_state=None, shrinking=True,\n",
      "    tol=0.001, verbose=False)\n"
     ]
    }
   ],
   "source": [
    "from loaders.cognicity_loader import CognicityLoader\n",
    "from learners.svm_learner import SvmLearner\n",
    "\n",
    "# import chennai_config\n",
    "# config = chennai_config.config\n",
    "\n",
    "import jakarta_config\n",
    "config = jakarta_config.config\n",
    "\n",
    "le = []\n",
    "\n",
    "import random\n",
    "validation_set = set(random.sample(config[\"flood_pkeys\"], 5))\n",
    "validation_set = validation_set.union(set(random.sample(config[\"no_flood_pkeys\"], 5)))\n",
    "params = {\"T\":1000}\n",
    "\n",
    "from image_recognition.goog_recog import GoogleLabeler\n",
    "l = SvmLearner(config, CognicityLoader, GoogleLabeler)\n",
    "l.train(params, validation_set)\n",
    "le.append(l)\n",
    "\n",
    "from image_recognition.aws_recog import AwsLabeler\n",
    "l = SvmLearner(config, CognicityLoader, AwsLabeler)\n",
    "l.train(params, validation_set)\n",
    "le.append(l)\n",
    "\n",
    "from nlp.bow_labeler import BowLabeler\n",
    "l = SvmLearner(config, CognicityLoader, BowLabeler)\n",
    "l.train(params, validation_set)\n",
    "le.append(l)\n",
    "\n",
    "result = []\n",
    "for each in le:\n",
    "    grid_search = run_grid_search(each)\n",
    "    print(grid_search.best_estimator_)\n",
    "    result.append(grid_search)"
   ]
  },
  {
   "cell_type": "code",
   "execution_count": 8,
   "metadata": {},
   "outputs": [
    {
     "name": "stdout",
     "output_type": "stream",
     "text": [
      "0.6491310474401127\n",
      "SVC(C=10, cache_size=200, class_weight=None, coef0=0.0,\n",
      "    decision_function_shape='ovr', degree=3, gamma=0.001, kernel='rbf',\n",
      "    max_iter=-1, probability=False, random_state=None, shrinking=True,\n",
      "    tol=0.001, verbose=False)\n",
      "0.6341005166744951\n",
      "SVC(C=1, cache_size=200, class_weight=None, coef0=0.0,\n",
      "    decision_function_shape='ovr', degree=2, gamma='auto_deprecated',\n",
      "    kernel='poly', max_iter=-1, probability=False, random_state=None,\n",
      "    shrinking=True, tol=0.001, verbose=False)\n",
      "0.6688311688311688\n",
      "SVC(C=100, cache_size=200, class_weight=None, coef0=0.0,\n",
      "    decision_function_shape='ovr', degree=3, gamma=0.001, kernel='rbf',\n",
      "    max_iter=-1, probability=False, random_state=None, shrinking=True,\n",
      "    tol=0.001, verbose=False)\n"
     ]
    }
   ],
   "source": [
    "for res in result:\n",
    "    print(res.best_score_)\n",
    "    print(res.best_estimator_)\n",
    "    \n",
    "# for chennai data: goog, aws, bow: cv =10\n",
    "# 0.7572254335260116\n",
    "# SVC(C=1, cache_size=200, class_weight=None, coef0=0.0,\n",
    "#     decision_function_shape='ovr', degree=2, gamma='auto_deprecated',\n",
    "#     kernel='poly', max_iter=-1, probability=False, random_state=None,\n",
    "#     shrinking=True, tol=0.001, verbose=False)\n",
    "# 0.7630057803468208\n",
    "# SVC(C=1, cache_size=200, class_weight=None, coef0=0.0,\n",
    "#     decision_function_shape='ovr', degree=4, gamma='auto_deprecated',\n",
    "#     kernel='poly', max_iter=-1, probability=False, random_state=None,\n",
    "#     shrinking=True, tol=0.001, verbose=False)\n",
    "# 0.7745664739884393\n",
    "# SVC(C=100, cache_size=200, class_weight=None, coef0=0.0,\n",
    "#     decision_function_shape='ovr', degree=3, gamma=0.001, kernel='rbf',\n",
    "#     max_iter=-1, probability=False, random_state=None, shrinking=True,\n",
    "#     tol=0.001, verbose=False)\n",
    "\n",
    "# jakarta goog, aws, bow cv=10\n",
    "# 0.6529968454258676\n",
    "# SVC(C=10, cache_size=200, class_weight=None, coef0=0.0,\n",
    "#     decision_function_shape='ovr', degree=3, gamma=0.001, kernel='rbf',\n",
    "#     max_iter=-1, probability=False, random_state=None, shrinking=True,\n",
    "#     tol=0.001, verbose=False)\n",
    "# 0.6421811626858945\n",
    "# SVC(C=1, cache_size=200, class_weight=None, coef0=0.0,\n",
    "#     decision_function_shape='ovr', degree=3, gamma='auto_deprecated',\n",
    "#     kernel='poly', max_iter=-1, probability=False, random_state=None,\n",
    "#     shrinking=True, tol=0.001, verbose=False)\n",
    "# 0.6768814781433078\n",
    "# SVC(C=1, cache_size=200, class_weight=None, coef0=0.0,\n",
    "#     decision_function_shape='ovr', degree=3, gamma='auto_deprecated',\n",
    "#     kernel='linear', max_iter=-1, probability=False, random_state=None,\n",
    "#     shrinking=True, tol=0.001, verbose=False)\n",
    "# "
   ]
  },
  {
   "cell_type": "code",
   "execution_count": null,
   "metadata": {},
   "outputs": [],
   "source": []
  },
  {
   "cell_type": "code",
   "execution_count": 7,
   "metadata": {},
   "outputs": [
    {
     "ename": "NameError",
     "evalue": "name 'cv' is not defined",
     "output_type": "error",
     "traceback": [
      "\u001b[0;31m---------------------------------------------------------------------------\u001b[0m",
      "\u001b[0;31mNameError\u001b[0m                                 Traceback (most recent call last)",
      "\u001b[0;32m<ipython-input-7-97c092802129>\u001b[0m in \u001b[0;36m<module>\u001b[0;34m\u001b[0m\n\u001b[0;32m----> 1\u001b[0;31m \u001b[0mcv\u001b[0m\u001b[0;34m.\u001b[0m\u001b[0mbest_estimator_\u001b[0m\u001b[0;34m\u001b[0m\u001b[0m\n\u001b[0m\u001b[1;32m      2\u001b[0m \u001b[0;31m# for jakarta aws data:\u001b[0m\u001b[0;34m\u001b[0m\u001b[0;34m\u001b[0m\u001b[0m\n\u001b[1;32m      3\u001b[0m \u001b[0;31m# SVC(C=1, cache_size=200, class_weight=None, coef0=0.0,\u001b[0m\u001b[0;34m\u001b[0m\u001b[0;34m\u001b[0m\u001b[0m\n\u001b[1;32m      4\u001b[0m \u001b[0;31m#     decision_function_shape='ovr', degree=3, gamma='auto_deprecated',\u001b[0m\u001b[0;34m\u001b[0m\u001b[0;34m\u001b[0m\u001b[0m\n\u001b[1;32m      5\u001b[0m \u001b[0;31m#     kernel='linear', max_iter=-1, probability=False, random_state=None,\u001b[0m\u001b[0;34m\u001b[0m\u001b[0;34m\u001b[0m\u001b[0m\n",
      "\u001b[0;31mNameError\u001b[0m: name 'cv' is not defined"
     ]
    }
   ],
   "source": [
    "cv.best_estimator_\n",
    "# for jakarta aws data:\n",
    "# SVC(C=1, cache_size=200, class_weight=None, coef0=0.0,\n",
    "#     decision_function_shape='ovr', degree=3, gamma='auto_deprecated',\n",
    "#     kernel='linear', max_iter=-1, probability=False, random_state=None,\n",
    "#     shrinking=True, tol=0.001, verbose=False)\n",
    "\n",
    "# cv.best_score_ = 0.5971158179360072"
   ]
  },
  {
   "cell_type": "code",
   "execution_count": null,
   "metadata": {},
   "outputs": [],
   "source": [
    "cv.best_score_"
   ]
  },
  {
   "cell_type": "code",
   "execution_count": null,
   "metadata": {},
   "outputs": [],
   "source": []
  }
 ],
 "metadata": {
  "kernelspec": {
   "display_name": "_python",
   "language": "python",
   "name": "_python"
  },
  "language_info": {
   "codemirror_mode": {
    "name": "ipython",
    "version": 3
   },
   "file_extension": ".py",
   "mimetype": "text/x-python",
   "name": "python",
   "nbconvert_exporter": "python",
   "pygments_lexer": "ipython3",
   "version": "3.5.2"
  }
 },
 "nbformat": 4,
 "nbformat_minor": 2
}
