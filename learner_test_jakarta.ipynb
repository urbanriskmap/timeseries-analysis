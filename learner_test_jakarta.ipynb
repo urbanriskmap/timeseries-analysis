{
 "cells": [
  {
   "cell_type": "code",
   "execution_count": 1,
   "metadata": {},
   "outputs": [
    {
     "name": "stderr",
     "output_type": "stream",
     "text": [
      "2019-08-19 08:29:24,113 - DEBUG - CognicityLoader constructed\n",
      "2019-08-19 08:29:24,114 - DEBUG - GoogleLabeler constructed\n",
      "2019-08-19 08:29:24,114 - DEBUG - CognicityLoader constructed\n",
      "2019-08-19 08:29:24,115 - DEBUG - GoogleLabeler constructed\n"
     ]
    }
   ],
   "source": [
    "from loaders.cognicity_loader import CognicityLoader\n",
    "from image_recognition.goog_recog import GoogleLabeler\n",
    "from learners.perceptron_learner import PerceptronLearner\n",
    "from learners.svm_learner import SvmLearner\n",
    "\n",
    "# import chennai_config\n",
    "# config = chennai_config.config\n",
    "\n",
    "import jakarta_config\n",
    "config = jakarta_config.config\n",
    "RERUN = True\n",
    "\n",
    "goog_learner = PerceptronLearner(config, CognicityLoader, GoogleLabeler)"
   ]
  },
  {
   "cell_type": "code",
   "execution_count": 2,
   "metadata": {},
   "outputs": [
    {
     "data": {
      "text/plain": [
       "20"
      ]
     },
     "execution_count": 2,
     "metadata": {},
     "output_type": "execute_result"
    }
   ],
   "source": [
    "import random\n",
    "validation_set = set(random.sample(config[\"flood_pkeys\"], 10))\n",
    "validation_set = validation_set.union(set(random.sample(config[\"no_flood_pkeys\"], 10)))\n",
    "len(validation_set)"
   ]
  },
  {
   "cell_type": "code",
   "execution_count": 3,
   "metadata": {},
   "outputs": [],
   "source": [
    "# th, th0 = goog_learner.run_learner(\"goog_separator.p\", rerun=RERUN, validation_keys=validation_set, params={\"T\":1000, \"print\":True})\n",
    "# goog_learner.t_data_w_pkey[0,:]\n",
    "# val = goog_learner.val_data_w_pkey[0,:]\n",
    "# goog_learner.val_labels"
   ]
  },
  {
   "cell_type": "code",
   "execution_count": 4,
   "metadata": {},
   "outputs": [],
   "source": [
    "# goog_learner.val_sd\n",
    "# goog_learner.t_sd.shape"
   ]
  },
  {
   "cell_type": "code",
   "execution_count": 5,
   "metadata": {},
   "outputs": [],
   "source": [
    "# labs = goog_learner.labeler\n",
    "# len(labs.features)"
   ]
  },
  {
   "cell_type": "code",
   "execution_count": 12,
   "metadata": {},
   "outputs": [
    {
     "name": "stderr",
     "output_type": "stream",
     "text": [
      "2019-08-19 08:35:46,413 - DEBUG - CognicityLoader constructed\n",
      "2019-08-19 08:35:46,423 - DEBUG - AwsLabeler constructed\n",
      "2019-08-19 08:35:46,424 - DEBUG - CognicityLoader constructed\n",
      "2019-08-19 08:35:46,426 - DEBUG - AwsLabeler constructed\n",
      "2019-08-19 08:35:46,458 - DEBUG - logging from: default_jakarta_data/aws_labels_default.p\n"
     ]
    },
    {
     "name": "stdout",
     "output_type": "stream",
     "text": [
      "20\n"
     ]
    },
    {
     "name": "stderr",
     "output_type": "stream",
     "text": [
      "2019-08-19 08:36:02,115 - INFO - Num Correct 12 Out of 17\n",
      "2019-08-19 08:36:02,115 - INFO - Val score: 0.7058823529411765\n",
      "2019-08-19 08:36:09,988 - DEBUG - CognicityLoader constructed\n",
      "2019-08-19 08:36:09,989 - DEBUG - AwsLabeler constructed\n",
      "2019-08-19 08:36:09,990 - DEBUG - CognicityLoader constructed\n",
      "2019-08-19 08:36:09,990 - DEBUG - AwsLabeler constructed\n",
      "2019-08-19 08:36:10,020 - DEBUG - logging from: default_jakarta_data/aws_labels_default.p\n"
     ]
    },
    {
     "name": "stdout",
     "output_type": "stream",
     "text": [
      "40\n"
     ]
    },
    {
     "name": "stderr",
     "output_type": "stream",
     "text": [
      "2019-08-19 08:36:25,827 - INFO - Num Correct 22 Out of 40\n",
      "2019-08-19 08:36:25,828 - INFO - Val score: 0.55\n",
      "2019-08-19 08:36:33,344 - DEBUG - CognicityLoader constructed\n",
      "2019-08-19 08:36:33,345 - DEBUG - AwsLabeler constructed\n",
      "2019-08-19 08:36:33,345 - DEBUG - CognicityLoader constructed\n",
      "2019-08-19 08:36:33,346 - DEBUG - AwsLabeler constructed\n",
      "2019-08-19 08:36:33,383 - DEBUG - logging from: default_jakarta_data/aws_labels_default.p\n"
     ]
    },
    {
     "name": "stdout",
     "output_type": "stream",
     "text": [
      "60\n"
     ]
    },
    {
     "name": "stderr",
     "output_type": "stream",
     "text": [
      "2019-08-19 08:36:49,173 - INFO - Num Correct 43 Out of 57\n",
      "2019-08-19 08:36:49,174 - INFO - Val score: 0.7543859649122807\n",
      "2019-08-19 08:36:56,617 - DEBUG - CognicityLoader constructed\n",
      "2019-08-19 08:36:56,618 - DEBUG - AwsLabeler constructed\n",
      "2019-08-19 08:36:56,618 - DEBUG - CognicityLoader constructed\n",
      "2019-08-19 08:36:56,619 - DEBUG - AwsLabeler constructed\n",
      "2019-08-19 08:36:56,649 - DEBUG - logging from: default_jakarta_data/aws_labels_default.p\n"
     ]
    },
    {
     "name": "stdout",
     "output_type": "stream",
     "text": [
      "80\n"
     ]
    },
    {
     "name": "stderr",
     "output_type": "stream",
     "text": [
      "2019-08-19 08:37:12,845 - INFO - Num Correct 45 Out of 72\n",
      "2019-08-19 08:37:12,846 - INFO - Val score: 0.625\n",
      "2019-08-19 08:37:20,290 - DEBUG - CognicityLoader constructed\n",
      "2019-08-19 08:37:20,290 - DEBUG - AwsLabeler constructed\n",
      "2019-08-19 08:37:20,291 - DEBUG - CognicityLoader constructed\n",
      "2019-08-19 08:37:20,292 - DEBUG - AwsLabeler constructed\n",
      "2019-08-19 08:37:20,325 - DEBUG - logging from: default_jakarta_data/aws_labels_default.p\n"
     ]
    },
    {
     "name": "stdout",
     "output_type": "stream",
     "text": [
      "100\n"
     ]
    },
    {
     "name": "stderr",
     "output_type": "stream",
     "text": [
      "2019-08-19 08:37:36,783 - INFO - Num Correct 65 Out of 96\n",
      "2019-08-19 08:37:36,784 - INFO - Val score: 0.6770833333333334\n",
      "2019-08-19 08:37:44,095 - DEBUG - CognicityLoader constructed\n",
      "2019-08-19 08:37:44,096 - DEBUG - AwsLabeler constructed\n",
      "2019-08-19 08:37:44,097 - DEBUG - CognicityLoader constructed\n",
      "2019-08-19 08:37:44,097 - DEBUG - AwsLabeler constructed\n",
      "2019-08-19 08:37:44,129 - DEBUG - logging from: default_jakarta_data/aws_labels_default.p\n"
     ]
    },
    {
     "name": "stdout",
     "output_type": "stream",
     "text": [
      "120\n"
     ]
    },
    {
     "name": "stderr",
     "output_type": "stream",
     "text": [
      "2019-08-19 08:38:00,150 - INFO - Num Correct 77 Out of 114\n",
      "2019-08-19 08:38:00,150 - INFO - Val score: 0.6754385964912281\n",
      "2019-08-19 08:38:07,309 - DEBUG - CognicityLoader constructed\n",
      "2019-08-19 08:38:07,310 - DEBUG - AwsLabeler constructed\n",
      "2019-08-19 08:38:07,310 - DEBUG - CognicityLoader constructed\n",
      "2019-08-19 08:38:07,311 - DEBUG - AwsLabeler constructed\n",
      "2019-08-19 08:38:07,344 - DEBUG - logging from: default_jakarta_data/aws_labels_default.p\n"
     ]
    },
    {
     "name": "stdout",
     "output_type": "stream",
     "text": [
      "140\n"
     ]
    },
    {
     "name": "stderr",
     "output_type": "stream",
     "text": [
      "2019-08-19 08:38:23,273 - INFO - Num Correct 92 Out of 135\n",
      "2019-08-19 08:38:23,273 - INFO - Val score: 0.6814814814814815\n",
      "2019-08-19 08:38:30,403 - DEBUG - CognicityLoader constructed\n",
      "2019-08-19 08:38:30,404 - DEBUG - AwsLabeler constructed\n",
      "2019-08-19 08:38:30,404 - DEBUG - CognicityLoader constructed\n",
      "2019-08-19 08:38:30,405 - DEBUG - AwsLabeler constructed\n",
      "2019-08-19 08:38:30,435 - DEBUG - logging from: default_jakarta_data/aws_labels_default.p\n"
     ]
    },
    {
     "name": "stdout",
     "output_type": "stream",
     "text": [
      "160\n"
     ]
    },
    {
     "name": "stderr",
     "output_type": "stream",
     "text": [
      "2019-08-19 08:38:46,295 - INFO - Num Correct 107 Out of 154\n",
      "2019-08-19 08:38:46,296 - INFO - Val score: 0.6948051948051948\n",
      "2019-08-19 08:38:53,330 - DEBUG - CognicityLoader constructed\n",
      "2019-08-19 08:38:53,331 - DEBUG - AwsLabeler constructed\n",
      "2019-08-19 08:38:53,332 - DEBUG - CognicityLoader constructed\n",
      "2019-08-19 08:38:53,332 - DEBUG - AwsLabeler constructed\n",
      "2019-08-19 08:38:53,363 - DEBUG - logging from: default_jakarta_data/aws_labels_default.p\n"
     ]
    },
    {
     "name": "stdout",
     "output_type": "stream",
     "text": [
      "180\n"
     ]
    },
    {
     "name": "stderr",
     "output_type": "stream",
     "text": [
      "2019-08-19 08:39:09,677 - INFO - Num Correct 124 Out of 174\n",
      "2019-08-19 08:39:09,678 - INFO - Val score: 0.7126436781609196\n",
      "2019-08-19 08:39:17,087 - DEBUG - CognicityLoader constructed\n",
      "2019-08-19 08:39:17,087 - DEBUG - AwsLabeler constructed\n",
      "2019-08-19 08:39:17,088 - DEBUG - CognicityLoader constructed\n",
      "2019-08-19 08:39:17,088 - DEBUG - AwsLabeler constructed\n",
      "2019-08-19 08:39:17,121 - DEBUG - logging from: default_jakarta_data/aws_labels_default.p\n"
     ]
    },
    {
     "name": "stdout",
     "output_type": "stream",
     "text": [
      "200\n"
     ]
    },
    {
     "name": "stderr",
     "output_type": "stream",
     "text": [
      "2019-08-19 08:39:33,057 - INFO - Num Correct 138 Out of 193\n",
      "2019-08-19 08:39:33,058 - INFO - Val score: 0.7150259067357513\n",
      "2019-08-19 08:39:39,999 - DEBUG - CognicityLoader constructed\n",
      "2019-08-19 08:39:40,000 - DEBUG - AwsLabeler constructed\n",
      "2019-08-19 08:39:40,001 - DEBUG - CognicityLoader constructed\n",
      "2019-08-19 08:39:40,002 - DEBUG - AwsLabeler constructed\n",
      "2019-08-19 08:39:40,037 - DEBUG - logging from: default_jakarta_data/aws_labels_default.p\n"
     ]
    },
    {
     "name": "stdout",
     "output_type": "stream",
     "text": [
      "220\n"
     ]
    },
    {
     "name": "stderr",
     "output_type": "stream",
     "text": [
      "2019-08-19 08:39:55,921 - INFO - Num Correct 150 Out of 215\n",
      "2019-08-19 08:39:55,922 - INFO - Val score: 0.6976744186046512\n",
      "2019-08-19 08:40:02,847 - DEBUG - CognicityLoader constructed\n",
      "2019-08-19 08:40:02,848 - DEBUG - AwsLabeler constructed\n",
      "2019-08-19 08:40:02,849 - DEBUG - CognicityLoader constructed\n",
      "2019-08-19 08:40:02,849 - DEBUG - AwsLabeler constructed\n",
      "2019-08-19 08:40:02,879 - DEBUG - logging from: default_jakarta_data/aws_labels_default.p\n"
     ]
    },
    {
     "name": "stdout",
     "output_type": "stream",
     "text": [
      "240\n"
     ]
    },
    {
     "name": "stderr",
     "output_type": "stream",
     "text": [
      "2019-08-19 08:40:18,594 - INFO - Num Correct 151 Out of 224\n",
      "2019-08-19 08:40:18,595 - INFO - Val score: 0.6741071428571429\n",
      "2019-08-19 08:40:25,535 - DEBUG - CognicityLoader constructed\n",
      "2019-08-19 08:40:25,536 - DEBUG - AwsLabeler constructed\n",
      "2019-08-19 08:40:25,537 - DEBUG - CognicityLoader constructed\n",
      "2019-08-19 08:40:25,537 - DEBUG - AwsLabeler constructed\n",
      "2019-08-19 08:40:25,567 - DEBUG - logging from: default_jakarta_data/aws_labels_default.p\n"
     ]
    },
    {
     "name": "stdout",
     "output_type": "stream",
     "text": [
      "260\n"
     ]
    },
    {
     "name": "stderr",
     "output_type": "stream",
     "text": [
      "2019-08-19 08:40:41,134 - INFO - Num Correct 171 Out of 248\n",
      "2019-08-19 08:40:41,135 - INFO - Val score: 0.6895161290322581\n",
      "2019-08-19 08:40:48,005 - DEBUG - CognicityLoader constructed\n",
      "2019-08-19 08:40:48,006 - DEBUG - AwsLabeler constructed\n",
      "2019-08-19 08:40:48,007 - DEBUG - CognicityLoader constructed\n",
      "2019-08-19 08:40:48,008 - DEBUG - AwsLabeler constructed\n",
      "2019-08-19 08:40:48,039 - DEBUG - logging from: default_jakarta_data/aws_labels_default.p\n"
     ]
    },
    {
     "name": "stdout",
     "output_type": "stream",
     "text": [
      "280\n"
     ]
    },
    {
     "name": "stderr",
     "output_type": "stream",
     "text": [
      "2019-08-19 08:41:03,854 - INFO - Num Correct 198 Out of 270\n",
      "2019-08-19 08:41:03,855 - INFO - Val score: 0.7333333333333333\n",
      "2019-08-19 08:41:10,584 - DEBUG - CognicityLoader constructed\n",
      "2019-08-19 08:41:10,585 - DEBUG - AwsLabeler constructed\n",
      "2019-08-19 08:41:10,586 - DEBUG - CognicityLoader constructed\n",
      "2019-08-19 08:41:10,586 - DEBUG - AwsLabeler constructed\n",
      "2019-08-19 08:41:10,620 - DEBUG - logging from: default_jakarta_data/aws_labels_default.p\n"
     ]
    },
    {
     "name": "stdout",
     "output_type": "stream",
     "text": [
      "300\n"
     ]
    },
    {
     "name": "stderr",
     "output_type": "stream",
     "text": [
      "2019-08-19 08:41:26,866 - INFO - Num Correct 193 Out of 285\n",
      "2019-08-19 08:41:26,867 - INFO - Val score: 0.6771929824561403\n",
      "2019-08-19 08:41:33,594 - DEBUG - CognicityLoader constructed\n",
      "2019-08-19 08:41:33,595 - DEBUG - AwsLabeler constructed\n",
      "2019-08-19 08:41:33,595 - DEBUG - CognicityLoader constructed\n",
      "2019-08-19 08:41:33,596 - DEBUG - AwsLabeler constructed\n",
      "2019-08-19 08:41:33,628 - DEBUG - logging from: default_jakarta_data/aws_labels_default.p\n"
     ]
    },
    {
     "name": "stdout",
     "output_type": "stream",
     "text": [
      "320\n"
     ]
    },
    {
     "name": "stderr",
     "output_type": "stream",
     "text": [
      "2019-08-19 08:41:49,376 - INFO - Num Correct 220 Out of 310\n",
      "2019-08-19 08:41:49,377 - INFO - Val score: 0.7096774193548387\n",
      "2019-08-19 08:41:56,032 - DEBUG - CognicityLoader constructed\n",
      "2019-08-19 08:41:56,032 - DEBUG - AwsLabeler constructed\n",
      "2019-08-19 08:41:56,033 - DEBUG - CognicityLoader constructed\n",
      "2019-08-19 08:41:56,034 - DEBUG - AwsLabeler constructed\n",
      "2019-08-19 08:41:56,065 - DEBUG - logging from: default_jakarta_data/aws_labels_default.p\n"
     ]
    },
    {
     "name": "stdout",
     "output_type": "stream",
     "text": [
      "340\n"
     ]
    },
    {
     "name": "stderr",
     "output_type": "stream",
     "text": [
      "2019-08-19 08:42:11,698 - INFO - Num Correct 219 Out of 332\n",
      "2019-08-19 08:42:11,699 - INFO - Val score: 0.6596385542168675\n",
      "2019-08-19 08:42:18,119 - DEBUG - CognicityLoader constructed\n",
      "2019-08-19 08:42:18,120 - DEBUG - AwsLabeler constructed\n",
      "2019-08-19 08:42:18,120 - DEBUG - CognicityLoader constructed\n",
      "2019-08-19 08:42:18,121 - DEBUG - AwsLabeler constructed\n",
      "2019-08-19 08:42:18,151 - DEBUG - logging from: default_jakarta_data/aws_labels_default.p\n"
     ]
    },
    {
     "name": "stdout",
     "output_type": "stream",
     "text": [
      "360\n"
     ]
    },
    {
     "name": "stderr",
     "output_type": "stream",
     "text": [
      "2019-08-19 08:42:33,634 - INFO - Num Correct 227 Out of 345\n",
      "2019-08-19 08:42:33,634 - INFO - Val score: 0.6579710144927536\n",
      "2019-08-19 08:42:40,001 - DEBUG - CognicityLoader constructed\n",
      "2019-08-19 08:42:40,002 - DEBUG - AwsLabeler constructed\n",
      "2019-08-19 08:42:40,002 - DEBUG - CognicityLoader constructed\n",
      "2019-08-19 08:42:40,003 - DEBUG - AwsLabeler constructed\n",
      "2019-08-19 08:42:40,033 - DEBUG - logging from: default_jakarta_data/aws_labels_default.p\n"
     ]
    },
    {
     "name": "stdout",
     "output_type": "stream",
     "text": [
      "380\n"
     ]
    },
    {
     "name": "stderr",
     "output_type": "stream",
     "text": [
      "2019-08-19 08:42:55,588 - INFO - Num Correct 250 Out of 367\n",
      "2019-08-19 08:42:55,589 - INFO - Val score: 0.6811989100817438\n"
     ]
    }
   ],
   "source": [
    "for i in range(1,20):\n",
    "    validation_set = set(random.sample(config[\"flood_pkeys\"], i*10))\n",
    "    validation_set = validation_set.union(set(random.sample(config[\"no_flood_pkeys\"], i*10)))\n",
    "    print(len(validation_set))\n",
    "    from image_recognition.aws_recog import AwsLabeler\n",
    "    # aws_learner = PerceptronLearner(config, CognicityLoader, AwsLabeler)\n",
    "    aws_learner = SvmLearner(config, CognicityLoader, AwsLabeler)\n",
    "    th, th0 = aws_learner.run_learner(\"aws_separator.p\", rerun=True, validation_keys=validation_set, params={\"T\":3000, \"print\":True})"
   ]
  },
  {
   "cell_type": "code",
   "execution_count": null,
   "metadata": {},
   "outputs": [],
   "source": [
    "th.shape\n",
    "aws_learner.t_sd.shape"
   ]
  },
  {
   "cell_type": "code",
   "execution_count": null,
   "metadata": {},
   "outputs": [],
   "source": [
    "labs = aws_learner.labeler\n",
    "len(labs.features)"
   ]
  },
  {
   "cell_type": "code",
   "execution_count": null,
   "metadata": {},
   "outputs": [],
   "source": [
    "aws_labeler = aws_learner.labeler\n",
    "a = aws_labeler.config[\"flood_pkeys\"]\n",
    "b = aws_labeler.config[\"no_flood_pkeys\"]\n",
    "c = a.union(b)\n",
    "max(c)"
   ]
  },
  {
   "cell_type": "code",
   "execution_count": null,
   "metadata": {},
   "outputs": [],
   "source": [
    "from nlp.bow_labeler import BowLabeler\n",
    "bow_learner = PerceptronLearner(config, CognicityLoader, BowLabeler)\n",
    "th, th0 = bow_learner.run_learner(\"bow_separator.p\", rerun=RERUN, validation_keys=validation_set, params={\"T\":1000, \"print\":True})"
   ]
  },
  {
   "cell_type": "code",
   "execution_count": null,
   "metadata": {},
   "outputs": [],
   "source": [
    "th.shape\n",
    "bow_learner.t_sd.shape"
   ]
  },
  {
   "cell_type": "code",
   "execution_count": null,
   "metadata": {},
   "outputs": [],
   "source": [
    "from learners.ensemble_learner import EnsembleLearner\n",
    "\n",
    "en_learner = EnsembleLearner(config, aws_learner, bow_learner)"
   ]
  },
  {
   "cell_type": "code",
   "execution_count": null,
   "metadata": {},
   "outputs": [],
   "source": [
    "nn_model = en_learner.run_learner(\"jakarta_en.p\", rerun=RERUN, validation_keys=validation_set)"
   ]
  },
  {
   "cell_type": "code",
   "execution_count": null,
   "metadata": {},
   "outputs": [],
   "source": [
    "import math\n",
    "probs = math.e**en_learner.res\n",
    "probs"
   ]
  },
  {
   "cell_type": "code",
   "execution_count": null,
   "metadata": {},
   "outputs": [],
   "source": [
    "import numpy as np\n",
    "p = probs.data.numpy()\n",
    "np.argmax(p, axis=1)"
   ]
  },
  {
   "cell_type": "code",
   "execution_count": null,
   "metadata": {},
   "outputs": [],
   "source": []
  }
 ],
 "metadata": {
  "kernelspec": {
   "display_name": "_python",
   "language": "python",
   "name": "_python"
  },
  "language_info": {
   "codemirror_mode": {
    "name": "ipython",
    "version": 3
   },
   "file_extension": ".py",
   "mimetype": "text/x-python",
   "name": "python",
   "nbconvert_exporter": "python",
   "pygments_lexer": "ipython3",
   "version": "3.5.2"
  }
 },
 "nbformat": 4,
 "nbformat_minor": 2
}
