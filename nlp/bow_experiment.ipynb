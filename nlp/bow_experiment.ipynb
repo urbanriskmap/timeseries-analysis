{
 "cells": [
  {
   "cell_type": "code",
   "execution_count": 12,
   "metadata": {},
   "outputs": [
    {
     "data": {
      "text/html": [
       "<style>.container { width:100% !important; }</style>"
      ],
      "text/plain": [
       "<IPython.core.display.HTML object>"
      ]
     },
     "metadata": {},
     "output_type": "display_data"
    }
   ],
   "source": [
    "from IPython.core.display import display, HTML\n",
    "display(HTML(\"<style>.container { width:100% !important; }</style>\"))"
   ]
  },
  {
   "cell_type": "code",
   "execution_count": 13,
   "metadata": {},
   "outputs": [],
   "source": [
    "import os\n",
    "import sys\n",
    "module_path = os.path.abspath(os.path.join('..'))\n",
    "if module_path not in sys.path:\n",
    "    sys.path.append(module_path)"
   ]
  },
  {
   "cell_type": "code",
   "execution_count": 14,
   "metadata": {},
   "outputs": [
    {
     "name": "stderr",
     "output_type": "stream",
     "text": [
      "2019-08-05 07:36:19,238 - DEBUG - CognicityLoader constructed\n"
     ]
    }
   ],
   "source": [
    "import chennai_config\n",
    "import loaders.cognicity_loader as c\n",
    "\n",
    "config = chennai_config.config\n",
    "loader = c.CognicityLoader(config)"
   ]
  },
  {
   "cell_type": "code",
   "execution_count": 15,
   "metadata": {},
   "outputs": [],
   "source": [
    "text_data = loader.get_data()\n",
    "import textwrap\n",
    "def wr(inp):\n",
    "    res = \"\"\n",
    "    sp = textwrap.wrap(inp, 50)\n",
    "    for each in sp:\n",
    "        res += each + \"\\n\"\n",
    "    return res\n",
    "\n",
    "d = {\"text\": wr}\n",
    "\n",
    "s = text_data.loc[text_data.index > 168].loc[text_data.index < 178].to_latex(col_space=20, formatters=d)\n",
    "# print(s)\n",
    "# text_data.loc[text_data.index > 168].loc[text_data.index < 178]"
   ]
  },
  {
   "cell_type": "code",
   "execution_count": 16,
   "metadata": {},
   "outputs": [],
   "source": [
    "# import bow as bow\n",
    "# bow_labeler = bow.bow_labeler(config)"
   ]
  },
  {
   "cell_type": "code",
   "execution_count": 17,
   "metadata": {
    "scrolled": true
   },
   "outputs": [],
   "source": [
    "# import image_recognition.perceptron as ml\n",
    "# # def run_bigram(report_texts):\n",
    "# #     vocab, occur, reports_dict =  make_bigram_vocab(report_texts)\n",
    "# #     features_w_pkey, labels = make_feature_matrix(vocab, reports_dict, flood, no_flood, make_bigram_feature_vector)\n",
    "# #     features = features_w_pkey[1:, :]\n",
    "# #     return vocab, occur, reports_dict, features_w_pkey, features, labels\n",
    "#     \n",
    "# def run_bow(report_texts):\n",
    "#     vocab, occur, reports_dict =  bow_labeler.make_unary_vocab(report_texts)\n",
    "#     features_w_pkey, labels = bow_labeler.make_feature_matrix(reports_dict, vocab)\n",
    "#     features = features_w_pkey[1:, :]\n",
    "#     return vocab, occur, reports_dict, features_w_pkey, features, labels\n",
    "# \n",
    "# bow_vocab, bow_occur, bow_reports_dict, bow_features_w_pkey, bow_features, bow_labels = run_bow(loader.get_data())\n",
    "# \n",
    "# print(bow_vocab)\n",
    "# \n",
    "# vocab, occur, reports_dict, features_w_pkey, features, labels = run_bigram(loader.get_data())\n",
    "# print(vocab)\n",
    "# \n",
    "# features = np.vstack((features, bow_features))\n",
    "# \n",
    "# # update the vocab to have correct index in the new feat. vector\n",
    "# i = len(vocab)\n",
    "# for key, value in bow_vocab.items():\n",
    "#     vocab[key] = value + i\n",
    "#     occur[key] = bow_occur[key]\n",
    "\n",
    "# th, th0 = ml.perceptron(features, labels, params={\"T\":1000, \"print\":True})"
   ]
  },
  {
   "cell_type": "code",
   "execution_count": 18,
   "metadata": {},
   "outputs": [],
   "source": [
    "import numpy as np\n",
    "\n",
    "def prepare_text(inp):\n",
    "    '''\n",
    "    returns a list of strings where each string is a different token\n",
    "    '''\n",
    "    # TODO replace this with regex?\n",
    "    import string\n",
    "    exclude = set(string.punctuation)\n",
    "    s = \"\".join(ch for ch in inp if ch not in exclude )\n",
    "    return s.lower().replace('\\n', ' ').split()\n",
    "    \n",
    "def make_unary_vocab(pkey_text_df, offset=0):\n",
    "    \"\"\"\n",
    "        Params:\n",
    "            pkey_text_df: a pandas DataFrame with an index of pkey and a \"text\" column\n",
    "            offset: where to begin indexing\n",
    "        Returns:\n",
    "            vocab(string: integer) - a dictionary from a word to an integer index\n",
    "            occur(string: integer) - dictionary from word to the number of times it occurs in the corpus\n",
    "            reports_dict(pkey: text)  - dictionary from pkey to report text\n",
    "    \"\"\"\n",
    "    # go through all report texts creating set\n",
    "    # of all possible words\n",
    "    vocab = dict()\n",
    "    occur = dict()\n",
    "    index = offset\n",
    "    reports_dict = dict()\n",
    "    for row in pkey_text_df.iterrows():\n",
    "        report_text_list = prepare_text(row[1]['text'])\n",
    "        pkey = row[0]\n",
    "        reports_dict[pkey] = report_text_list\n",
    "        for word in report_text_list:\n",
    "            if word not in vocab:\n",
    "                vocab[word] = index\n",
    "                index += 1\n",
    "            if word not in occur:\n",
    "                occur[word] = 1\n",
    "            else:\n",
    "                occur[word] += 1\n",
    "    return (vocab, occur, reports_dict)\n",
    "\n",
    "            \n",
    "def make_bigram_vocab(pkey_text_df, offset=0):\n",
    "    \"\"\"\n",
    "    \"\"\"\n",
    "    vocab = dict()\n",
    "    occur = dict()\n",
    "    reports_dict = dict()\n",
    "    index = offset\n",
    "    for row in pkey_text_df.iterrows():\n",
    "        report_text_list = prepare_text(row[1]['text'])\n",
    "        pkey = row[0]\n",
    "        two_gram = list(zip(report_text_list, report_text_list[1:]))\n",
    "        reports_dict[pkey] = two_gram\n",
    "        for first, second in two_gram:\n",
    "            token = (first, second)\n",
    "            if token not in vocab:\n",
    "                vocab[token] = index\n",
    "                index += 1\n",
    "            if token in occur:\n",
    "                occur[token] += 1\n",
    "            else:\n",
    "                occur[token] = 1\n",
    "        \n",
    "    return (vocab, occur, reports_dict)\n",
    "\n",
    "            \n",
    "def make_unary_feature_vector(vocab, report_text_list):\n",
    "    res = np.zeros((len(vocab), 1))\n",
    "    for word in report_text_list:\n",
    "        if word in vocab:\n",
    "            res[vocab[word]][0] = 1\n",
    "        # how to deal with out of vocab words?\n",
    "    return res\n",
    "\n",
    "def make_bigram_feature_vector(vocab, report_text_list):\n",
    "    # needs a tuple vocab[(tup)] -> index\n",
    "    res = np.zeros((len(vocab), 1))\n",
    "    for first, second in report_text_list:\n",
    "        if (first, second) in vocab:\n",
    "            res[vocab[(first, second)]][0] = 1\n",
    "        # how to deal with out of vocab words?\n",
    "    return res\n",
    "        \n",
    "\n",
    "def make_feature_matrix(vocab, reports_dict, pos_pkeys, neg_pkeys, make_vector=make_unary_feature_vector):\n",
    "    \"\"\"\n",
    "    params:\n",
    "        vocab (dict): dictionary from word to index location along the\n",
    "                  column vector\n",
    "        reports_dict: dictionary from pkeys to text\n",
    "        pos_pkeys (set): membership in this set means the pkey should be \n",
    "                         labeled as postive\n",
    "        make_vector: a function that takes a vocab and report_text_list and returns a numpy feature vector \n",
    "        \n",
    "    Returns:\n",
    "        tuple of (feature_matrix, labels)\n",
    "        feature_matrix is a matrix of pkeys with associated feature columns underneath\n",
    "        pkey      | pkey\n",
    "        feat_vect | feat\n",
    "        size: (len(vocab)+1, num_reports)\n",
    "        labels is a matrix of size (1, num_reports) where report i is +1 if \n",
    "            pkey matching that index is in pos_pkeys and -1 else\n",
    "    \"\"\"\n",
    "    \n",
    "    labels = np.zeros((1, (len(reports_dict))))\n",
    "    feature_matrix = np.zeros((len(vocab)+1, len(reports_dict)))\n",
    "    i = 0\n",
    "    for pkey, word_list in reports_dict.items():\n",
    "        col = make_vector(vocab, word_list)\n",
    "        col_w_pkey = np.insert(col, 0, [pkey], 0)\n",
    "        feature_matrix[:, i] = col_w_pkey[:,0]\n",
    "        if pkey in pos_pkeys:\n",
    "            labels[0, i] = 1\n",
    "        else: \n",
    "            labels[0, i] = -1\n",
    "        i += 1\n",
    "    return (feature_matrix, labels)"
   ]
  },
  {
   "cell_type": "code",
   "execution_count": 19,
   "metadata": {},
   "outputs": [
    {
     "name": "stdout",
     "output_type": "stream",
     "text": [
      "percent of flooding:  0.75\n"
     ]
    }
   ],
   "source": [
    "import pandas as pd\n",
    "start_known_flood = \"'2017-11-01 00:00:35.630000+05:30'\" \n",
    "end_known_flood = \"'2017-11-07 00:00:35.630000+05:30'\"\n",
    "\n",
    "def __get_flood_pkeys(start_date, end_date, engine):\n",
    "    # gets the pkeys of reports during flood dates\n",
    "    from sqlalchemy import text\n",
    "\n",
    "    pkeys = pd.read_sql_query('''\n",
    "        SELECT pkey, created_at FROM ''' + config['database_name'] + '''.all_reports WHERE\n",
    "            created_at > %(start_date)s::timestamptz\n",
    "                AND \n",
    "            created_at < %(end_date)s::timestamptz\n",
    "    ''', params={\"start_date\": start_date, \"end_date\": end_date}, con=engine, index_col=\"pkey\")\n",
    "    \n",
    "    return set(pkeys.index)\n",
    "    \n",
    "def __get_no_flood_pkeys(start_flood_date, end_flood_date, engine):\n",
    "    # gets the pkeys of reports outside dates\n",
    "    from sqlalchemy import text\n",
    "\n",
    "    pkeys = pd.read_sql_query('''\n",
    "        SELECT pkey, created_at FROM ''' + config['database_name'] + '''.all_reports WHERE\n",
    "            created_at < %(start_date)s::timestamptz\n",
    "                OR \n",
    "            created_at > %(end_date)s::timestamptz\n",
    "    ''', params={\"start_date\": start_flood_date, \"end_date\": end_flood_date}, con=engine, index_col=\"pkey\")\n",
    "\n",
    "    return set(pkeys.index)\n",
    "\n",
    "flood = __get_flood_pkeys(start_known_flood, end_known_flood, config['database_engine'])\n",
    "no_flood = __get_no_flood_pkeys(start_known_flood, end_known_flood, config['database_engine'])\n",
    "percent = len(flood)/(len(flood)+len(no_flood))\n",
    "print(\"percent of flooding: \", percent)\n"
   ]
  },
  {
   "cell_type": "code",
   "execution_count": 20,
   "metadata": {
    "scrolled": false
   },
   "outputs": [
    {
     "name": "stdout",
     "output_type": "stream",
     "text": [
      "{'floody': 903, 'condition': 911, 'sozhanagar': 774, 'below': 108, 'thevar': 552, 'if': 143, 'shing': 793, 'cars': 184, 'vidhyashram': 515, 'pot': 832, 'between': 162, 'konnur': 578, 'stagnated': 9, 'walk': 88, 'turned': 620, '11th': 297, 'dhandesswaram': 325, 'friday': 554, 'hardly': 629, 'comes': 645, 'underpass': 724, 'network': 288, 'switch': 247, 'interior': 504, 'arcot': 158, 'garbage': 706, 'wastewater': 610, 'bike': 433, 'quick': 752, 'right': 520, 'pallikaranai': 178, 'lying': 485, 'live': 856, 'thigh': 521, 'known': 240, 'picture': 29, 'mosquitoes': 875, 'hope': 68, 'falan': 7, 'kuberan': 384, 'year': 339, 'ride': 432, 'levels': 407, 'spreading': 899, 'hospitals': 881, 'intrution': 156, '2feet': 292, 'government': 778, 'than': 349, 'shastri': 296, 'drkalaingar': 924, 'that': 20, 'luz': 74, 'ags': 317, 'inspite': 665, 'hasthinapuramchromepet': 809, 'draining': 279, 'higher': 399, 'ra': 675, 'raman': 615, 'when': 730, 'enter': 113, 'stagnatted': 910, 'in': 59, 'good': 725, 'kalakshetra': 245, 'appolo': 880, 'manageable': 471, 'happening': 870, 'expect': 528, 'mount': 710, 'rain': 37, 'sail': 760, 'purswakkam': 655, 'several': 704, 'especially': 868, 'still': 66, '6th': 509, 'motorable': 391, 'main': 154, 'metro': 712, '10th': 605, 'zoom': 364, 'prefer': 693, 'inundation': 631, 'showers': 797, 'tomorrow': 153, 'whole': 560, 'reflecting': 482, 'muthuramalinga': 551, 'kotturpuram': 256, 'bye': 746, 'diversion': 659, 'road': 13, 'recent': 831, 'ascendas': 637, 'transportations': 826, 'flooded': 53, 'situation': 274, 'keeps': 370, 'completely': 52, 'clogs': 492, 'vasantha': 932, 'grounds': 43, 'will': 239, 'leads': 534, 'sand': 805, 'opal': 576, 'escaping': 859, 'cant': 87, 'moved': 776, '7th': 299, 'totally': 316, 'tree': 6, 'intersection': 640, 'entering': 599, 'extension': 102, 'floatings': 707, 'approach': 149, 'may': 376, 'mambalam': 61, 'disrupting': 847, 'today': 781, 'perungalathur': 448, 'sumps': 440, 'side': 362, 'mannivakkam': 634, '600044': 810, 'few': 644, 'mgr': 193, 'opp': 771, 'mildest': 865, 'krishna': 473, 'sarathy': 627, 'praying': 261, 'honda': 695, 'scene': 862, 'going': 820, 'hazard': 763, 'damage': 791, 'needed': 355, '10pm': 491, 'sure': 212, 'under': 104, 'saalai': 254, 'natco': 516, 'poornetwork': 289, 'duraiswamy': 223, 'use': 181, 'guindy': 210, 'vechicles': 532, 'since': 406, 'bugs': 45, 'highly': 824, 'but': 326, 'currently': 652, 'lb': 164, 'immediate': 353, 'playground': 39, 'very': 118, 'usual': 359, '20': 302, 'stinky': 762, 'were': 106, 'inflow': 371, 'night': 72, 'during': 428, 'ramavaram': 740, 'drive': 208, 'mud': 660, 'away': 533, 'stephenson': 411, '16th': 863, 'around': 218, 'bbroad': 585, 'any': 630, 'as': 146, 'problem': 890, 'raised': 410, 'pm': 499, 'seems': 139, 'drain': 506, 'while': 134, 'it’s': 886, 'office': 672, 'lower': 395, 'home': 538, 'kasturba': 591, 'its': 142, 'footage': 565, 'annai': 686, 'pumps': 795, 'puthagaram': 926, 'veeranam': 681, 'stagnate': 607, '30cms': 219, 'dayssewage': 734, 'outlet': 306, 'getting': 129, '2nd': 160, 'mostly': 689, 'black': 735, 'path': 530, 'power': 415, 'zero': 667, 'spic': 155, '4th': 594, 'fully': 199, 'down': 373, 'areas': 343, 'mixed': 222, 'ground': 227, 'gear': 754, 'pillayar': 638, 'apartment': 651, 'venkatarangam': 382, 'backside': 840, 'done': 768, 'people': 144, 'mrts': 687, 'strahans': 539, 'photo': 295, 'gangai': 876, 'gets': 397, 'vehicle': 319, 'close': 272, 'these': 705, 'bagyalakshmi': 475, 'skolathur': 503, '9th': 604, 'thiruvotriyur': 917, 'avaliable': 308, 'bad': 287, 'better': 575, 'grand': 617, 'hussain': 893, 'note': 818, 'fast': 729, 'badly': 849, 'bhaktavatchalam': 703, 'nagaraj': 474, 'suburamanium': 584, 'sun': 670, 'location': 648, 'kind': 481, 'clogged': 731, 'puram': 570, 'arogya': 685, 'junction': 246, 'amount': 857, '945': 553, 'diseases': 898, 'colour': 736, 'infrastructure': 484, 'further': 546, 'balaji': 624, '4cm': 64, 'motorists': 83, 'tata': 596, 'rising': 47, 'of': 95, 'local': 777, 'footpath': 691, 'logged': 86, 'height': 188, 'streets': 4, 'little': 702, 'floods': 700, 'simple': 878, 'ramani': 601, 'lessened': 278, 'exactly': 457, 'taken': 31, 'has': 277, 'effective': 828, 'we': 147, 'worst': 789, 'which': 488, 'though': 275, 'st': 271, 'indoors': 145, 'health': 739, 'pumping': 852, 'raining': 169, 'receding': 613, 'olympia': 422, 'inaccessible': 166, 'way': 441, '9940567676': 930, 'club': 550, 'day': 35, 'hi': 844, 'it': 230, 'hospital': 198, 'flows': 392, 'okay': 557, 'omr': 196, '23': 625, 'come': 70, 'cleared': 741, 'thru': 761, 'koil': 639, 'locations': 678, 'gp': 493, 'roads': 62, 'dont': 69, 'encroachments': 496, 'seethamma': 479, 'every': 853, '50cm': 24, 'blocked': 327, 'pleas': 931, 'bharathi': 450, 'small': 688, 'colony': 318, 'stand': 420, 'stucked': 540, 'almost': 55, 'bit': 900, 'over': 236, 'serios': 812, 'due': 234, 'kbg': 748, 'to': 98, 'hero': 694, 'tansi': 571, 'theres': 823, 'increases': 372, 'potholes': 619, 'n': 400, 'near': 11, 'srm': 264, 'homes': 284, 'mandapam': 251, 'delays': 529, 'flyover': 14, 'kandigai': 470, 'reported': 537, 'traffic': 226, 'open': 170, 'nagargets': 864, 'partial': 815, 'interiors': 547, 'quite': 728, 'auto': 419, 'nov': 110, 'along': 838, 'feet': 350, 'closed': 225, 'mohammed': 892, 'entered': 439, 'hazardous': 787, 'stagged': 860, 'raja': 476, 'surrounding': 461, 'are': 103, 'schools': 779, 'ok': 291, 'center': 905, 'connect': 451, 'waterlogged': 3, 'silks': 82, 'fields': 744, '🙁': 360, 'old': 716, 'where': 456, 'chokkalingam': 328, '7': 312, 'places': 330, 'needs': 345, 'house': 114, 'kumarancolony': 447, 'hey': 138, 'careful': 93, 'above': 157, 'watch': 435, 'backwaters': 803, 'lane': 337, 'standing': 562, 'kamaraj': 588, 'fact': 313, 'mudichur': 321, 'velachery': 96, 'beware': 192, '13th': 913, 'madipakkam': 914, 'coovum': 882, 'offomr': 680, 'telephone': 589, 'block': 923, 'floor': 228, 'pity': 480, 'knees': 794, 'something': 766, 'proceed': 84, 'advisable': 524, 'dangerous': 867, 'singaperumal': 902, 'adyar': 593, 'nalla': 409, 'flooding': 1, 'always': 426, 'streeta': 310, 'lead': 888, 'narayana': 569, 'bhaktavatsalam': 592, '1': 513, '2': 111, 'cross': 298, 'prepared': 418, 'now': 123, '3rd': 572, 'appakannu': 338, 'move': 398, 'stagned': 829, 'danger': 518, 'logging': 49, 'much': 21, 'restaurant': 583, 'used': 527, 'ankle': 187, 'continuing': 67, 'free': 505, 'holes': 721, 'sides': 128, 'installed': 666, 'waterlog': 217, 'entire': 159, 'chamiers': 719, 'amout': 909, 'broken': 663, 'nearby': 172, 'stagnates': 861, 'ttk': 602, 'otteri': 408, 'they': 105, 'past': 676, 'poor': 331, 'pretty': 120, 'street': 16, 'increase': 545, '200': 301, 'cannal': 453, 'showroom': 696, 'high': 522, 'upto': 324, 'thirumagal': 641, 'must': 814, 'dav': 642, 'slope': 894, 'vyasarpadi': 465, 'so': 417, 'enters': 259, 'centre': 556, 'can': 207, 'prevent': 510, 'deeeep': 300, 'curb': 558, 'big': 845, 'hard': 855, 'really': 866, 'jjdithlh': 0, 'link': 836, 'wheeler': 182, 'continuously': 709, 'stoppedbut': 454, 'risky': 662, 'either': 635, 'area': 126, 'started': 800, 'raj': 821, 'encroachment': 802, 'roadwater': 895, 'starting': 633, 'left': 770, '5': 801, 'scooters': 757, 'about': 112, 'bikes': 755, 'entrance': 548, 'is': 30, 'however': 238, 'continuous': 235, 'helps': 283, 'kathirvedu': 872, 'view': 720, 'western': 502, 'depth': 344, 'damaged': 437, 'kilpauk': 285, 'sw': 508, 'was': 497, 'ormes': 535, 'attention': 346, 'speed': 380, 'towards': 252, 'reach': 819, 'smellthreat': 738, 'no': 203, 'scared': 544, 'college': 357, 'up': 131, 'out': 436, 'after': 213, 'one': 167, 'increasing': 280, 'church': 76, 'v': 133, 'kagithapuram': 472, 'store': 79, 'washermenpetthiruvallur': 717, 'dark': 294, 'do': 266, 'fallen': 792, 'slow': 375, 'homeanticipating': 414, 'waist': 764, 'destruction': 790, 'turning': 608, 'got': 221, 'stranded': 140, 'sewerage': 332, 'police': 843, 'tidel': 189, 'with': 54, 'vadapalani': 839, 'shutdown': 416, 'kattupakkam': 563, 'on': 26, 'bypass': 268, 'pump': 851, '10': 498, 'tulsi': 81, 'could': 379, 'halfway': 896, 'morning': 242, 'kelambakkam': 679, 'thiruvittiyur': 925, 'csir': 636, '4': 750, 'zone': 122, 'chengalpattu': 915, 'non': 758, 'run': 879, 'tv': 671, 'wheelrs': 136, 'mrc': 561, 'children': 780, 'full': 320, 'already': 186, 'model': 50, 'reducingdont': 455, 'extn': 385, 'routes': 249, 'flowing': 115, 'll': 368, 'corner': 586, 'flow': 374, 'approved': 394, 'universityplease': 265, '28th': 429, '8th': 269, 'gatetnphc': 650, 'place': 117, 'suv': 759, 'congestion': 715, 'calf': 612, 'pits': 837, 'medium': 609, 'mor': 478, 'time': 73, 'outside': 71, 'adambakkam': 643, 'days': 677, 'slowly': 48, 'at': 90, 'levelit': 396, 'stay': 63, 'indira': 161, 'help': 354, 'rice': 745, 'drained': 352, 'a': 121, 'alternate': 248, 'low': 124, 'god': 282, 'floodingdue': 816, 'slime': 769, 'heavy': 58, 'leave': 267, 'travel': 434, 'heavily': 430, 'an': 232, 'stinking': 782, 'rainfall': 65, 'stagnation': 536, 'velmurugan': 587, '2015': 273, 'areathere': 486, 'couple': 699, 'concern': 427, 'mild': 796, 'flood': 5, 'south': 387, 'tank': 163, 'urapakkam': 673, 'baby': 348, 'clearing': 377, 'safe': 22, 'even': 595, 'lic': 386, 'mcn': 656, 'ft': 402, 'i': 929, 'connects': 257, 'olympiya': 175, '6': 733, 'turns': 40, 'ave': 701, 'sleepless': 260, 'southramanagr': 912, 'north': 101, 'visible': 692, 'might': 148, 'take': 281, 'support': 918, 'via': 255, 'btw': 194, 'cm': 303, 'falling': 921, 'floofing': 887, 'conditions': 833, 'egmore': 623, 'difficult': 214, 'atleast': 424, 'back': 413, 'only': 23, '7pm': 109, 'adjacent': 511, 'throughout': 311, 'action': 753, 'viduthalai': 742, 'udhayam': 347, 'central': 202, 'sign': 523, 'inlet': 507, 'pothole': 846, 'also': 573, 'avenue': 18, 'continues': 231, 'tharamani': 195, 'pose': 784, 'thaiyur': 323, 'desilting': 767, 'officials': 340, 'drainage': 220, 'valmiki': 244, 'you': 367, 'by': 241, 'harmful': 906, 'been': 425, 'puzhuthivakkam': 626, 'medavakkam': 179, 'park': 366, 'severe': 290, 'caution': 85, 'cut': 683, 'manage': 756, 'spilling': 877, 's': 412, 'rmz': 389, 'chennai': 201, 'clogging': 494, 'single': 526, 'rammiyam': 458, 'nagar': 100, 'lake': 322, 'into': 41, 'colonywill': 606, 'boat': 549, 'part': 827, 'point': 682, 'grt': 616, 'frogs': 920, 'inner': 165, 'till': 80, '3': 206, 'other': 464, 'troubles': 334, 'cloth': 78, 'just': 107, 'decent': 908, 'like': 698, 'urgent': 443, 'ambujammal': 304, 'waterstrictly': 531, 'length': 559, 'tnhb': 405, 'lloyds': 336, '1st': 15, 'intuc': 871, 'innuandation': 669, 'gst': 901, 'major': 799, 'knee': 56, 'go': 132, 'clear': 315, 'signal': 75, '60cms': 732, 'overflowing': 174, 'stretch': 314, 'houses': 229, 'moving': 542, 'medicinal': 884, 'deep': 57, 'marketvelachery': 460, 'ch66': 873, 'poonamallee': 654, 'patel': 581, 'intensity': 276, 'stagnant': 25, 'kathipara': 258, 'inside': 200, 'exchange': 590, 'too': 293, 'apollo': 197, 'nagarindira': 697, 'am': 205, 'tech': 423, 'adayar': 452, 'measures': 444, '17': 555, '15': 401, 'filled': 130, 'floodedas': 358, 'obnoxious': 737, 'vehicles': 176, 'private': 825, 'hence': 525, 'dumps': 722, 'through': 89, 'netaji': 808, 'median': 137, 'west': 60, 'here': 141, 'secretariat': 356, 'stormwater': 869, 'everywhere': 286, 'end': 661, 'built': 883, 'clotted': 684, 'snakes': 919, 'half': 611, 'iit': 649, 'thalambur': 835, 'chance': 351, 'sick': 922, 'system': 333, 'saligramam': 446, 'kelembakam': 468, 'haj': 361, 'manholes': 438, 'mallika': 603, 'worse': 577, 'this': 28, 'last': 567, 'yet': 614, 'us': 874, 'sivan': 841, 'bypassleading': 97, 'less': 119, 'body': 173, '02112017': 490, 'electricity': 243, 'horrible': 500, 'gandhi': 250, 'came': 564, 'need': 751, 'get': 646, 'front': 388, 'ace': 597, 'subway': 224, 'pass': 747, 'insects': 783, 'affected': 125, 'bikers': 191, '12': 204, 'work': 713, 'kannan': 329, 'varies': 512, 'kolathur': 891, 'bus': 421, 'our': 807, 'public': 519, 'driving': 135, 'relief': 263, 'harihara': 772, 'periyakovilambakkam': 749, 'light': 854, 'well': 723, 'immersed': 928, 'before': 658, 'another': 600, 'level': 46, 'fromdrivers': 813, '6hrs': 237, 'parts': 579, 'not': 19, 'parallel': 487, 'tonight': 152, 'foot': 168, 'super': 459, 'own': 442, 'rains': 151, 'manhole': 171, 'paruthipattu': 33, 'sardar': 580, 'absolutely': 668, 'lagging': 363, 'bridge': 462, 'canal': 307, 'water': 8, 'estuary': 804, 'or': 183, 'clue': 342, 'increased': 566, 'manimegalai': 477, 'suggestion': 726, 'millenia': 390, 'both': 127, 'hour': 233, 'unleashed': 36, 'iitmadras': 653, 'east': 270, 'log': 216, 'escape': 817, 'properly': 785, 'without': 690, 'cenatoph': 718, 'reduced': 628, 'ajax': 916, 'some': 262, 'huge': 897, 'introduced': 657, 'know': 369, 'building': 786, 'wanted': 445, 'eedeeee': 811, 'anna': 253, 'nearly': 904, 'from': 32, 'ambattur': 775, 'off': 621, 'engineers': 17, 'rangachari': 77, 'proper': 848, 'alwarpet': 305, 'particularly': 765, 'service': 190, 'two': 34, 'puddles': 714, 'next': 574, 'have': 341, 'school': 51, 'underbridge': 788, 'please': 185, 'there': 211, 'sakthi': 927, 'bhavan': 822, 'locality': 383, 'and': 2, 'ram': 99, 'kovilambakkam': 743, 'waterlogging': 10, 'temple': 773, 'all': 91, 'check': 365, 'blockades': 664, 'majorly': 622, 'then': 541, 'avadi': 404, 'encroached': 393, 'formation': 889, 'risk': 431, 'kovil': 842, 'says': 618, 'narayanapuram': 501, 'perambur': 463, 'egattur': 834, 'storm': 495, 'streams': 517, 'the': 27, 'floodedwas': 489, 'led': 798, 'porur': 209, 'navigable': 711, 'most': 94, 'car': 215, 'swimming': 177, 'facility': 885, 'removed': 806, 'tambaram': 449, 'drains': 378, 'gemini': 403, 'avoid': 116, 'residents': 335, 'canals': 858, 'route': 180, 'submerged': 38, 'vandalur': 469, 'for': 44, 'makes': 309, 'cathedral': 12, 'breeding': 42, 'litte': 647, 'avm': 674, 'struggling': 598, 'kindly': 850, 'be': 92, 'across': 727, 'pedestrians': 907, 'crossing': 467, 'new': 466, 'station': 381, 'because': 543, 'more': 150, 'blockages': 830, 'river': 632, 'citys': 483, 'nanthan': 514, 'pours': 708, 'rains02nov2017': 568, 'sangeetha': 582}\n",
      "{('pothole', 'disrupting'): 1921, ('bad', 'with'): 1890, ('2015', 'floods'): 1538, ('fields', 'of'): 1660, ('use', 'two'): 246, ('school', 'children'): 1734, ('raining', 'already'): 254, ('will', 'drain'): 1119, ('no', 'water'): 275, ('mohammed', 'hussain'): 2087, ('flooded', 'can'): 487, ('13th', 'main'): 2145, ('nagar', 'and'): 634, ('nagar', 'to'): 792, ('school', 'adambakkam'): 1329, ('electricity', 'been'): 1278, ('drain', 'is'): 1869, ('colony', 'bus'): 712, ('knee', 'on'): 1253, ('closed', 'the'): 2062, ('have', 'very'): 1898, ('and', 'other'): 823, ('1st', 'lane'): 530, ('during', 'heavy'): 731, ('one', 'end'): 1391, ('the', 'damaged'): 1750, ('level', 'in'): 2180, ('is', 'turning'): 1698, ('is', 'visible'): 1507, ('and', '7th'): 451, ('this', 'place'): 146, ('water', 'logged'): 97, ('drive', 'n'): 1952, ('intersection', 'the'): 1697, ('slowly', 'while'): 169, ('rains', 'as'): 1980, ('with', 'garbage'): 1564, ('8th', 'nov'): 1740, ('the', 'fields'): 1659, ('near', 'cathedral'): 6, ('flooding', 'from'): 513, ('water', 'entered'): 1034, ('was', 'struggling'): 1209, ('some', 'water'): 615, ('interior', 'locations'): 1453, ('and', 'near'): 1918, ('to', 'ride'): 745, ('half', 'of'): 1258, ('nagargets', 'flooded'): 1974, ('need', 'help'): 2175, ('drive', 'there'): 1512, ('litte', 'water'): 1349, ('tata', 'ace'): 1207, ('netaji', 'nagar'): 1807, ('from', 'poonamallee'): 1362, ('black', 'in'): 1638, ('can', 'manage'): 1680, ('almost', 'as'): 1533, ('in', 'fact'): 478, ('in', 'southramanagr'): 2143, ('roads', 'as'): 1605, ('more', 'rains'): 194, ('canals', 'no'): 1959, ('hospital', 'back'): 1477, ('1st', 'street'): 9, ('kelembakam', 'to'): 831, ('or', 'light'): 1944, ('stagnated', 'upto'): 2178, ('place', 'is'): 1149, ('dangerous', 'for'): 1993, ('live', 'gangai'): 2029, ('always', 'flooding'): 2013, ('stagnation', 'risk'): 2099, ('no', 'flooding'): 585, ('to', 'few'): 1331, ('silks', 'flooded'): 91, ('kalakshetra', 'road'): 356, ('a', 'photo'): 445, ('zero', 'water'): 1417, ('are', 'blocked'): 509, ('year', 'on'): 535, ('bridge', 'footage'): 1107, ('water', 'motorists'): 93, ('its', 'fully'): 714, ('nagar', 'hasthinapuramchromepet'): 1808, ('2nd', 'main'): 1197, ('adayar', 'cannal'): 795, ('no', 'drains'): 2211, ('in', 'old'): 1587, ('on', 'nov'): 132, ('grounds', 'for'): 41, ('cars', 'suv'): 1693, ('kindly', 'avoid'): 1934, ('road', 'btw'): 263, ('at', 'one'): 1390, ('avenue', 'manimegalai'): 846, ('indoors', 'as'): 189, ('kilpauk', 'and'): 426, ('it', 'will'): 1241, ('still', 'not'): 1304, ('water', 'stagnates'): 1963, ('if', 'more'): 1009, ('avadi', 'tnhb'): 684, ('in', 'gp'): 880, ('a', 'rain'): 1941, ('this', 'picture'): 22, ('paruthipattu', 'the'): 28, ('is', 'happening'): 2005, ('struggling', 'to'): 1210, ('rain', 'heavy'): 1942, ('not', 'that'): 12, ('nagar', 'mallika'): 1224, ('location', 'intuc'): 2007, ('omr', 'was'): 891, ('nagar', 'several'): 1552, ('are', 'moving'): 1056, ('guindy', 'spic'): 1758, ('completely', 'immersed'): 2196, ('full', 'of'): 1658, ('super', 'marketvelachery'): 810, ('a', 'couple'): 1529, ('at', 'around'): 1780, ('ramavaram', 'road'): 1647, ('water', 'stagnant'): 18, ('road', 'junction'): 357, ('continuing', 'hope'): 69, ('upto', '7'): 501, ('not', 'motorable'): 1305, ('under', 'bridge'): 814, ('water', 'they'): 123, ('walk', 'through'): 101, ('flowing', 'out'): 981, ('nagarindira', 'nagar'): 1525, ('all', 'over'): 437, ('flooded', 'ankle'): 1200, ('the', 'inflow'): 602, ('mrts', 'station'): 1488, ('house', 'for'): 1754, ('gandhi', 'mandapam'): 364, ('2', 'days'): 1447, ('across', 'is'): 1620, ('area', 'no'): 2210, ('have', 'led'): 1772, ('help', 'to'): 1830, ('water', 'came'): 1104, ('road', 'entrance'): 1146, ('road', 'water'): 1618, ('signal', 'flooded'): 79, ('tharamani', 'and'): 265, ('very', 'worse'): 1145, ('clogged', 'in'): 1629, ('street', 'engineers'): 10, ('come', 'exactly'): 806, ('water', 'clotted'): 1468, ('home', 'urapakkam'): 1479, ('to', 'flooding'): 1450, ('colonywill', 'take'): 1236, ('use', 'perambur'): 821, ('with', 'drainage'): 1027, ('river', 'starting'): 1310, ('lloyds', 'road'): 527, ('rain', 'in'): 58, ('nanthan', 'vidhyashram'): 950, ('rain', 'pours'): 1570, ('duraiswamy', 'subway'): 306, ('for', 'damaged'): 759, ('of', 'rains'): 1979, ('logging', 'receding'): 1271, ('situation', 'reflecting'): 861, ('to', 'enter'): 136, ('getting', 'drained'): 566, ('situation', 'though'): 404, ('28th', 'cross'): 733, ('and', 'help'): 2023, ('low', 'cars'): 250, ('area', 'near'): 552, ('road', 'alwarpet'): 851, ('west', 'mambalam'): 60, ('level', 'for'): 1248, ('stagnation', 'in'): 2095, ('new', 'bridge'): 826, ('nagar', 'even'): 1374, ('street', 'and'): 1169, ('this', 'stretch'): 898, ('holes', 'and'): 1601, ('turning', 'just'): 1247, ('to', 'clogging'): 884, ('ankle', 'length'): 1095, ('as', 'it'): 1856, ('grand', 'says'): 1267, ('rains', 'over'): 331, ('interiors', 'of'): 1068, ('please', 'do'): 1709, ('of', 'stagnant'): 1494, ('area', 'will'): 341, ('water', 'at'): 1233, ('bus', 'stand'): 713, ('the', 'interiors'): 1067, ('low', 'lying'): 865, ('and', 'thaiyur'): 1457, ('at', '945'): 1081, ('drive', 'car'): 295, ('leads', 'to'): 1022, ('street', 'towards'): 1185, ('st', 'is'): 453, ('roads', 'in'): 959, ('and', 'mosquitoes'): 2168, ('clear', 'roads'): 1594, ('and', 'go'): 174, ('level', 'water'): 311, ('reducingdont', 'know'): 801, ('area', 'particularly'): 1706, ('either', 'side'): 1315, ('when', 'heavy'): 1624, ('on', 'the'): 20, ('water', 'flows'): 651, ('houses', 'if'): 318, ('crossing', 'kelembakam'): 830, ('from', 'house'): 393, ('rains', 'fromdrivers'): 1818, ('rains', 'and'): 1251, ('level', 'might'): 1064, ('road', 'madipakkam'): 2146, ('as', 'during'): 1536, ('to', 'connect'): 793, ('is', 'okay'): 1087, ('any', 'rain'): 1341, ('mount', 'road'): 1575, ('proper', 'and'): 1948, ('on', 'road'): 371, ('water', 'getting'): 565, ('and', 'dumps'): 1602, ('alternate', 'routes'): 361, ('avoid', 'scooters'): 1687, ('it', 'leads'): 2130, ('at', 'mrc'): 1435, ('they', 'were'): 124, ('around', '5'): 1781, ('cut', 'off'): 1464, ('street', 'no'): 770, ('stagnation', 'just'): 2049, ('north', 'extension'): 119, ('is', 'free'): 911, ('some', 'relief'): 385, ('pot', 'holes'): 1884, ('other', 'end'): 1396, ('church', 'road'): 83, ('highly', 'damaged'): 2125, ('street', 'as'): 1867, ('nearby', 'lake'): 2000, ('nagar', 'mrts'): 1490, ('little', 'bit'): 2103, ('a', 'lake'): 1834, ('from', 'dav'): 1327, ('diversion', 'road'): 1384, ('just', 'for'): 2050, ('is', 'safe'): 698, ('blocked', 'and'): 2045, ('it', 'difficult'): 2018, ('st', 'very'): 399, ('road', 'fully'): 1367, ('over', 'here'): 945, ('60cms', 'too'): 1632, ('area', 'to'): 656, ('on', 'most'): 2213, ('very', 'difficult'): 1851, ('some', 'houses'): 765, ('lead', 'to'): 2079, ('bbroad', 'road'): 1176, ('the', 'mudichur'): 494, ('overflowing', 'in'): 1732, ('stormwater', 'drain'): 1997, ('clear', 'to'): 1102, ('bad', 'potholes'): 1985, ('appakannu', 'street'): 533, ('flooding', 'near'): 1760, ('photo', 'shastri'): 446, ('with', 'car'): 1048, ('this', 'route'): 949, ('approved', 'area'): 658, ('at', 'all'): 103, ('tambaram', 'west'): 1226, ('road', 'between'): 1318, ('entered', 'home'): 1035, ('highly', 'used'): 1858, ('few', 'days'): 1516, ('entire', 'street'): 644, ('praying', 'for'): 383, ('7pm', 'on'): 131, ('completely', 'flooded'): 51, ('is', 'always'): 816, ('just', 'below'): 126, ('obnoxious', 'smellthreat'): 1642, ('logging', 'but'): 752, ('dont', 'come'): 73, ('water', 'till'): 104, ('sure', 'after'): 291, ('water', 'with'): 1387, ('our', 'street'): 2043, ('to', 'ram'): 116, ('badly', 'kindly'): 1933, ('road', '11th'): 1654, ('main', 'road'): 208, ('area', 'is'): 812, ('here', 'we'): 1481, ('lessened', 'water'): 409, ('water', 'drain'): 917, ('st', 'puzhuthivakkam'): 1290, ('as', 'the'): 601, ('out', 'because'): 1058, ('sun', 'tv'): 1431, ('inner', 'roads'): 225, ('side', 'entrance'): 1269, ('government', 'schools'): 1730, ('23', 'st'): 1289, ('from', 'there'): 288, ('ags', 'colonywill'): 1235, ('appolo', 'hospitals'): 2059, ('and', 'ram'): 635, ('of', 'snakes'): 2165, ('for', 'rain'): 2057, ('road', 'opp'): 1719, ('in', 'front'): 645, ('level', 'increasing'): 412, ('too', 'slow'): 610, ('kelambakkam', 'and'): 1456, ('out', 'for'): 758, ('i', 'have'): 2199, ('perambur', 'high'): 1174, ('that', 'area'): 1762, ('car', 'or'): 1049, ('anna', 'nagargets'): 1973, ('kasturba', 'nagarindira'): 1524, ('and', 'private'): 1862, ('road', 'next'): 1134, ('used', 'road'): 1859, ('of', 'kelambakkam'): 1455, ('spilling', 'water'): 2047, ('road', 'all'): 2038, ('purswakkam', 'high'): 1366, ('check', 'for'): 591, ('though', 'rain'): 405, ('road', 'to'): 989, ('house', 'which'): 2076, ('quick', 'action'): 1677, ('nagar', 'bagyalakshmi'): 841, ('rain', 'please'): 414, ('for', 'bugs'): 42, ('were', 'just'): 125, ('water', 'flood'): 828, ('in', 'water'): 1165, ('the', 'house'): 138, ('underpass', 'road'): 1613, ('in', 'all'): 1283, ('strahans', 'road'): 1038, ('the', 'bye'): 1665, ('drainage', 'canal'): 1467, ('ramani', 'nagar'): 1221, ('the', 'interior'): 908, ('clogging', 'of'): 885, ('floofing', 'here'): 2072, ('ft', 'road'): 914, ('high', 'as'): 1504, ('water', 'is'): 334, ('from', 'station'): 623, ('9th', '10th'): 1229, ('water', 'water'): 428, ('chennai', 'central'): 273, ('6th', '7th'): 1423, ('please', 'avoid'): 251, ('on', 'strahans'): 1037, ('slowly', 'receding'): 1261, ('water', 'blocked'): 2102, ('road', 'one'): 228, ('road', '1st'): 529, ('subway', 'closed'): 307, ('friday', 'nov'): 1084, ('logged', 'and'): 98, ('road', 'halfway'): 2094, ('surrounding', 'area'): 811, ('street', 'extension'): 1294, ('pillayar', 'koil'): 1322, ('on', 'arcot'): 210, ('where', 'the'): 804, ('flooded', 'fully'): 270, ('of', 'kasturba'): 1189, ('as', 'high'): 1503, ('area', 'on'): 659, ('major', 'flooding'): 1775, ('water', 'tank'): 220, ('we', 'need'): 2155, ('kasturba', 'nagar'): 1190, ('park', 'you'): 593, ('that', 'leads'): 1021, ('even', 'a'): 1205, ('scared', 'that'): 1062, ('nagar', 'main'): 1560, ('increasing', 'as'): 600, ('on', 'year'): 536, ('take', 'caution'): 416, ('venkatarangam', 'st'): 626, ('roads', 'stay'): 64, ('the', 'ajax'): 2151, ('cross', 'street'): 734, ('a', 'little'): 1544, ('public', 'and'): 1861, ('concern', 'during'): 730, ('in', 'colour'): 1639, ('nagar', '2nd'): 1293, ('the', 'road'): 21, ('drained', 'immediate'): 567, ('is', 'clear'): 482, ('cross', 'streets'): 1427, ('roads', 'full'): 1900, ('not', 'to'): 1617, ('during', 'more'): 1783, ('and', 'encroachments'): 889, ('clear', 'zero'): 1416, ('bad', 'as'): 1535, ('started', 'at'): 1779, ('opp', 'to'): 1720, ('entered', 'into'): 763, ('mambalam', 'flood'): 61, ('hope', 'for'): 70, ('has', 'entered'): 762, ('adyar', 'river'): 1787, ('road', 'lloyds'): 528, ('mud', 'at'): 1389, ('is', 'no'): 349, ('is', 'taken'): 24, ('medicinal', 'facility'): 2069, ('but', 'inner'): 508, ('for', 'water'): 773, ('was', 'about'): 2114, ('dangerous', 'driving'): 2132, ('more', 'flooding'): 963, ('traffic', 'congestion'): 1586, ('vadapalani', 'flyover'): 1908, ('ram', 'nagar'): 117, ('with', 'water'): 53, ('are', 'heavily'): 739, ('that', 'much'): 13, ('an', 'encroachment'): 1793, ('logging', 'has'): 1299, ('but', 'no'): 1838, ('logged', 'till'): 1609, ('facility', 'it’s'): 2070, ('if', 'narayana'): 1121, ('and', 'hence'): 2002, ('falling', 'sick'): 2174, ('roads', 'inaccessible'): 226, ('nagar', 'completely'): 2195, ('with', 'caution'): 96, ('street', 'this'): 2032, ('the', 'houses'): 1568, ('streets', 'are'): 738, ('flow', 'in'): 1785, ('need', 'pumps'): 1769, ('this', 'area'): 340, ('is', 'as'): 1502, ('deep', 'stagnant'): 312, ('less', 'amount'): 1954, ('way', 'for'): 772, ('of', 'days'): 1531, ('near', 'mannivakkam'): 1313, ('along', 'this'): 1906, ('however', 'the'): 337, ('higher', 'than'): 1093, ('but', 'this'): 897, ('and', 'guindy'): 286, ('via', 'kotturpuram'): 369, ('point', 'cut'): 1463, ('right', 'now'): 971, ('on', 'a'): 660, ('6th', 'street'): 926, ('off', 'to'): 1465, ('adyar', 'backwaters'): 1796, ('and', 'potholes'): 2127, ('haj', 'house'): 579, ('tech', 'park'): 718, ('night', 'praying'): 382, ('small', 'rain'): 1814, ('also', 'water'): 1337, ('flooded', 'all'): 587, ('at', 'ambujammal'): 459, ('run', 'off'): 2055, ('2feet', 'water'): 440, ('better', 'to'): 1139, ('in', 'saligramam'): 782, ('is', 'next'): 1485, ('bad', 'roads'): 1899, ('parts', 'of'): 1156, ('flooded', 'near'): 386, ('past', '6'): 1633, ('damaged', 'building'): 1751, ('need', 'some'): 1828, ('canal', 'avaliable'): 464, ('till', 'ankle'): 1181, ('extension', 'are'): 120, ('garbage', 'floatings'): 1565, ('to', 'escape'): 1826, ('take', 'another'): 1216, ('inflow', 'increases'): 603, ('raining', 'as'): 1399, ('locality', 'of'): 628, ('moving', 'traffic'): 1275, ('has', 'less'): 2034, ('stand', 'to'): 710, ('into', 'breeding'): 39, ('water', 'body'): 234, ('near', 'srm'): 387, ('bharathi', 'nagar'): 791, ('roads', 'clear'): 1415, ('nagar', 'velachery'): 1129, ('rangachari', 'cloth'): 86, ('very', 'hard'): 1950, ('not', 'use'): 947, ('kattupakkam', 'and'): 2206, ('at', '10'): 894, ('to', 'cross'): 1852, ('street', 'intersection'): 1324, ('2015', 'situation'): 403, ('have', 'small'): 2200, ('especially', 'two'): 1996, ('tree', 'falan'): 3, ('koil', 'street'): 1323, ('and', 'bhaktavatsalam'): 1191, ('we', 'might'): 191, ('during', '2015'): 1537, ('stay', 'away'): 1016, ('that', 'connects'): 373, ('already', 'water'): 1334, ('overflowing', 'on'): 903, ('and', 'bbroad'): 1170, ('the', 'east'): 1194, ('viduthalai', 'nagar'): 1653, ('thevar', 'road'): 1079, ('drkalaingar', 'nagar'): 2185, ('this', 'turning'): 1246, ('reach', 'the'): 2119, ('watch', 'out'): 757, ('12', 'am'): 279, ('than', 'main'): 2037, ('logged', 'in'): 351, ('most', 'of'): 109, ('on', 'citys'): 863, ('know', 'from'): 802, ('engineers', 'avenue'): 11, ('of', 'people'): 1646, ('level', 'not'): 799, ('and', 'even'): 1204, ('4', 'days'): 1673, ('of', 'drkalaingar'): 2184, ('then', 'water'): 1345, ('and', 'check'): 590, ('absolutely', 'safe'): 1419, ('nagar', 'engineers'): 845, ('difficult', 'for'): 665, ('drain', 'on'): 924, ('waist', 'deep'): 1705, ('area', 'the'): 1946, ('to', 'vandalur'): 832, ('be', 'prepared'): 707, ('depth', 'water'): 547, ('at', '6th'): 1422, ('bad', 'network'): 430, ('flooding', 'will'): 1006, ('two', 'wheeler'): 247, ('feet', 'in'): 941, ('7th', 'street'): 2010, ('level', 'keeps'): 597, ('rain', 'that'): 1625, ('nagar', 'south'): 636, ('water', 'flooding'): 510, ('ambujammal', 'street'): 460, ('knee', 'deep'): 56, ('avoid', 'this'): 145, ('deep', 'on'): 1549, ('to', 'stay'): 700, ('extn', 'under'): 638, ('1', 'feet'): 937, ('used', 'by'): 997, ('hence', 'inundation'): 2003, ('of', 'secretariat'): 1069, ('prefer', 'to'): 1511, ('all', 'the'): 1714, ('thigh', 'high'): 975, ('ok', 'nagar'): 439, ('southramanagr', '13th'): 2144, ('water', 'stagnation'): 1028, ('for', '4'): 1672, ('velachery', 'mrts'): 1487, ('flowing', 'towards'): 789, ('a', 'tata'): 1206, ('usual', '🙁'): 578, ('at', '7pm'): 130, ('can', 'drive'): 282, ('nov', '2'): 133, ('of', 'roadwater'): 2091, ('open', 'manhole'): 231, ('at', 'interior'): 1452, ('the', 'coovum'): 2063, ('water', 'seems'): 180, ('chennai', '600044'): 1810, ('velachery', 'flooded'): 1130, ('road', 'anna'): 1972, ('been', 'like'): 1526, ('the', 'sw'): 922, ('spreading', 'and'): 2171, ('till', 'knees'): 1767, ('is', 'high'): 1401, ('police', 'station'): 1916, ('levels', 'of'): 687, ('location', 'near'): 1354, ('path', 'is'): 2147, ('areas', 'around'): 542, ('puram', 'area'): 2209, ('on', 'western'): 904, ('nagar', '7th'): 2009, ('must', 'be'): 1820, ('are', 'safe'): 1483, ('getting', 'in'): 2040, ('to', 'prevent'): 928, ('vehicles', 'are'): 237, ('height', 'of'): 2121, ('pm', 'but'): 896, ('apartment', 'flooded'): 1359, ('use', 'service'): 2073, ('not', 'much'): 1574, ('st', 'and'): 450, ('are', 'ankle'): 1163, ('still', 'continuing'): 68, ('kind', 'of'): 859, ('only', 'near'): 176, ('potholes', 'all'): 2128, ('road', 'foot'): 1471, ('other', 'vyasarpadi'): 824, ('colour', 'with'): 1640, ('water', 'roads'): 1495, ('water', 'switch'): 358, ('the', 'estuary'): 1798, ('2nd', 'street'): 1184, ('is', 'below'): 695, ('done', 'but'): 1712, ('from', 'chennai'): 1109, ('kathipara', 'to'): 376, ('to', 'walk'): 2021, ('no', 'run'): 2054, ('raj', 'bhavan'): 1847, ('water', 'about'): 134, ('open', 'manholes'): 1988, ('vyasarpadi', 'new'): 825, ('logging', 'for'): 1444, ('nalla', 'raised'): 690, ('baby', 'nagar'): 554, ('of', 'flowing'): 980, ('nagar', 'extn'): 631, ('11th', 'street'): 1655, ('scooters', 'other'): 1688, ('ra', 'puram'): 1439, ('know', 'water'): 596, ('stranded', 'here'): 182, ('rains', 'that'): 1777, ('dont', 'go'): 1045, ('and', 'spilling'): 2046, ('for', 'an'): 324, ('is', 'still'): 1303, ('kagithapuram', 'krishna'): 838, ('be', 'clogged'): 1628, ('of', 'these'): 1554, ('not', 'draining'): 411, ('no', 'proper'): 1925, ('of', 'canals'): 1958, ('delays', 'in'): 1002, ('water', 'over'): 2048, ('nearby', 'water'): 233, ('pump', 'are'): 1935, ('enter', 'ground'): 315, ('to', 'guindy'): 377, ('in', 'this'): 141, ('amount', 'of'): 1955, ('in', 'mcn'): 1372, ('canal', 'water'): 1394, ('ascendas', 'and'): 1320, ('6', 'dayssewage'): 1634, ('western', 'side'): 905, ('park', 'with'): 719, ('if', 'rain'): 1569, ('days', 'almost'): 1532, ('through', 'at'): 102, ('broken', 'due'): 1404, ('led', 'to'): 1773, ('entire', 'area'): 1790, ('always', 'stagnate'): 1243, ('though', 'drainage'): 1376, ('road', 'heavy'): 1442, ('street', 'grt'): 1265, ('the', 'knee'): 128, ('introduced', 'water'): 1379, ('high', 'road'): 1154, ('level', 'but'): 696, ('has', 'been'): 724, ('of', 'boat'): 1073, ('nearly', 'flooding'): 2116, ('water', 'got'): 301, ('proceed', 'with'): 95, ('sardar', 'patel'): 1158, ('level', 'rising'): 44, ('getting', 'filled'): 164, ('more', 'hazardous'): 1756, ('point', 'avoid'): 1686, ('submerged', 'this'): 34, ('of', 'slope'): 2089, ('to', 'clear'): 2159, ('road', 'inside'): 271, ('the', 'sun'): 1430, ('wheelrs', 'and'): 173, ('which', 'is'): 871, ('rain', 'for'): 323, ('to', 'local'): 1728, ('no', 'electricity'): 350, ('flooded', 'mixed'): 1025, ('pose', 'health'): 1747, ('flooding', 'around'): 2204, ('stagnates', 'even'): 1964, ('for', 'more'): 1755, ('apollo', 'hospital'): 268, ('saligramam', 'kumarancolony'): 783, ('is', 'introduced'): 1378, ('small', 'stretch'): 1492, ('hence', 'single'): 993, ('night', 'rains02nov2017'): 1116, ('go', 'v'): 167, ('through', 'the'): 642, ('the', 'two'): 29, ('adyar', 'are'): 1199, ('all', 'main'): 2039, ('streets', 'of'): 1428, ('take', 'time'): 1237, ('so', 'much'): 2163, ('lake', 'overflowing'): 902, ('sign', 'of'): 979, ('less', 'floodedwas'): 873, ('stagnant', 'water'): 313, ('suv', 'can'): 1694, ('not', 'reducingdont'): 800, ('outside', 'indira'): 1489, ('almost', 'all'): 674, ('and', 'water'): 427, ('are', 'waterlogged'): 1562, ('attention', 'needed'): 1298, ('are', 'falling'): 2173, ('universityplease', 'do'): 389, ('of', 'sivan'): 1912, ('thalambur', 'link'): 1893, ('sides', 'of'): 162, ('logging', 'at'): 458, ('rain', 'it'): 1815, ('please', 'dont'): 1044, ('floatings', 'risk'): 1566, ('health', 'hazard'): 1702, ('a', 'few'): 1515, ('side', 'hence'): 992, ('the', 'cenatoph'): 1591, ('to', 'medavakkam'): 240, ('rain', 'water'): 143, ('heavy', 'rains'): 1255, ('vasantha', 'puram'): 2208, ('gst', 'road'): 2106, ('mosquitoes', 'formation'): 2081, ('breeding', 'grounds'): 40, ('in', 'chokkalingam'): 511, ('crossing', 'this'): 1004, ('flowing', 'from'): 985, ('mosquitoes', 'are'): 2169, ('road', 'towards'): 1364, ('tidel', 'service'): 259, ('road', 'less'): 1547, ('breeding', 'of'): 2026, ('and', 'health'): 1701, ('been', 'stagnant'): 1232, ('street', 'has'): 2033, ('and', 'reach'): 2118, ('heavy', 'flooding'): 570, ('the', 'median'): 178, ('of', 'the'): 110, ('of', 'pits'): 1901, ('tansi', 'nagar'): 1126, ('people', 'are'): 1055, ('a', 'point'): 1685, ('puzhuthivakkam', 'knee'): 1291, ('offomr', 'veeranam'): 1459, ('in', 'viduthalai'): 1652, ('chamiers', 'intersection'): 1593, ('blocked', 'to'): 1879, ('mrts', 'small'): 1491, ('3rd', '4th'): 1202, ('ride', 'the'): 746, ('stay', 'safe'): 65, ('we', 'are'): 1482, ('poornetwork', 'rising'): 434, ('near', 'bridge'): 1765, ('road', 'there'): 1590, ('millenia', 'still'): 649, ('is', 'just'): 639, ('entrance', 'to'): 1147, ('is', 'not'): 410, ('mandapam', 'towards'): 365, ('of', 'rice'): 1661, ('cleared', 'in'): 1651, ('serios', 'rains'): 1817, ('road', 'which'): 870, ('nagar', 'chengalpattu'): 2149, ('south', 'extn'): 637, ('water', 'was'): 2113, ('street', 'netaji'): 1806, ('with', 'obnoxious'): 1641, ('our', 'area'): 1802, ('lower', 'levelit'): 662, ('to', 'travel'): 755, ('koil', 'the'): 2110, ('manageable', 'currently'): 1360, ('since', 'last'): 1114, ('udhayam', 'nagar'): 550, ('but', 'slowly'): 1260, ('the', 'area'): 1854, ('side', 'water'): 581, ('without', 'any'): 1498, ('ajax', 'subway'): 2152, ('levels', 'have'): 1111, ('immediate', 'help'): 568, ('curb', 'at'): 1091, ('drain', 'if'): 1120, ('please', 'take'): 415, ('fallen', 'tree'): 1764, ('between', 'ascendas'): 1319, ('and', 'no'): 977, ('in', 'suburamanium'): 1167, ('sakthi', 'nagar'): 2194, ('to', 'major'): 1774, ('seethamma', 'road'): 850, ('stagnated', 'because'): 1957, ('is', 'stinking'): 1743, ('skolathur', 'kovilambakkam'): 1657, ('can', 'sail'): 1695, ('flooded', 'main'): 910, ('mildest', 'of'): 1978, ('the', 'parallel'): 1020, ('towards', 'bharathi'): 790, ('clear', 'water'): 2190, ('csir', 'road'): 1317, ('to', 'the'): 921, ('tonight', 'then'): 1344, ('entering', 'the'): 1213, ('one', 'foot'): 229, ('are', 'flowing'): 788, ('after', 'that'): 292, ('and', '9th'): 1425, ('still', 'motorable'): 650, ('rain', 'has'): 796, ('because', 'they'): 1059, ('the', 'centre'): 1546, ('grt', 'grand'): 1266, ('this', 'point'): 1462, ('stay', 'indoors'): 188, ('quite', 'fast'): 1622, ('kamaraj', 'avenue'): 1182, ('no', 'standing'): 1099, ('waterlogged', 'for'): 1513, ('is', 'removed'): 1801, ('mgr', 'road'): 262, ('rmz', 'millenia'): 648, ('narayana', 'puram'): 1122, ('cleared', 'properly'): 1748, ('logging', 'absolutely'): 1418, ('other', 'non'): 1689, ('water', 'has'): 761, ('that', 'is'): 1409, ('to', 'higher'): 673, ('difficult', 'to'): 293, ('to', 'heavy'): 1823, ('colony', 'rammiyam'): 808, ('no', 'chance'): 562, ('near', 'paruthipattu'): 27, ('tv', 'office'): 1432, ('stagnation', 'at'): 1864, ('stretch', 'of'): 1493, ('off', 'for'): 2056, ('and', 'backside'): 1910, ('road', 'that'): 372, ('and', 'reported'): 1032, ('is', 'so'): 2162, ('from', 'lower'): 670, ('guindy', 'from'): 287, ('disrupting', 'traffic'): 1922, ('increasing', 'due'): 413, ('go', 'there'): 1046, ('and', 'omr'): 266, ('road', 'broken'): 1403, ('logging', 'on'): 1840, ('have', 'this'): 857, ('street', 'alwarpet'): 461, ('frogs', 'and'): 2167, ('connect', 'adayar'): 794, ('diseases', 'spreading'): 2101, ('velachery', 'gatetnphc'): 1357, ('nagar', 'area'): 551, ('driving', 'here'): 418, ('needs', 'attention'): 549, ('10th', 'street'): 1230, ('go', 'till'): 1683, ('to', 'bbroad'): 1175, ('less', 'water'): 149, ('ave', '2nd'): 1540, ('and', 'tambaram'): 786, ('water', 'everywhere'): 429, ('no', 'clue'): 540, ('medium', 'rains'): 1250, ('safe', 'to'): 699, ('flooded', 'over'): 944, ('heavy', 'or'): 1943, ('too', 'dark'): 441, ('kannan', 'avenue'): 517, ('not', 'navigable'): 1577, ('needed', 'to'): 920, ('central', 'is'): 274, ('and', 'blockages'): 1875, ('by', 'vehicle'): 491, ('snakes', 'frogs'): 2166, ('gangai', 'nagar'): 2030, ('luz', 'signal'): 78, ('river', 'and'): 2065, ('to', 'drain'): 1239, ('for', 'medium'): 1249, ('with', 'even'): 1975, ('street', 'please'): 1708, ('ankle', 'deep'): 781, ('a', 'lower'): 661, ('manholes', 'flooding'): 1989, ('not', 'proper'): 1947, ('pours', 'continuously'): 1571, ('travel', 'watch'): 756, ('600044', 'even'): 1811, ('road', 'side'): 1550, ('water', 'flooded'): 160, ('east', 'st'): 398, ('is', 'very'): 1949, ('flood', 'in'): 2083, ('past', '2'): 1446, ('we', 'live'): 2028, ('gets', 'stucked'): 1042, ('level', 'waterstrictly'): 1011, ('level', 'arogya'): 1474, ('to', 'water'): 1825, ('lying', 'areathere'): 866, ('since', 'the'): 685, ('and', 'turns'): 37, ('a', 'parallel'): 868, ('n', 'roads'): 677, ('ormes', 'road'): 1024, ('near', '3rd'): 1131, ('under', 'water'): 122, ('desilting', 'done'): 1711, ('the', 'vehicle'): 1214, ('tonight', 'and'): 196, ('puthagaram', 'sakthi'): 2193, ('chennai', 'bypass'): 1110, ('for', 'public'): 968, ('from', 'mudichur'): 514, ('perambur', 'and'): 822, ('at', 'kilpauk'): 425, ('much', 'a'): 152, ('in', 'adyar'): 1786, ('station', 'to'): 624, ('comes', 'tonight'): 1343, ('to', 'reach'): 1839, ('children', 'affected'): 1735, ('draining', 'due'): 883, ('hazardous', 'insects'): 1757, ('driving', 'and'): 2133, ('system', 'water'): 1929, ('because', 'of'): 1579, ('arcot', 'street'): 211, ('may', 'lead'): 2078, ('stephenson', 'road'): 692, ('increases', 'and'): 604, ('natco', 'colony'): 952, ('with', 'rain'): 305, ('drainage', 'system'): 1413, ('knee', 'at'): 129, ('mudichur', 'road'): 495, ('3rd', 'main'): 1132, ('locations', 'of'): 1454, ('to', 'ags'): 711, ('this', 'street'): 142, ('road', 'are'): 1561, ('hope', 'god'): 420, ('keeps', 'on'): 598, ('has', 'stagnant'): 1386, ('vehicles', 'expect'): 1000, ('street', 'which'): 2015, ('of', 'metro'): 1580, ('2nd', 'avenue'): 215, ('flowing', 'in'): 140, ('bikes', 'can'): 1679, ('up', 'level'): 1473, ('water', 'here'): 256, ('water', 'logging'): 46, ('happening', 'location'): 2006, ('by', 'morning'): 345, ('with', 'knee'): 92, ('says', 'side'): 1268, ('amout', 'of'): 2139, ('and', 'sumps'): 767, ('big', 'pothole'): 1920, ('logged', 'with'): 1563, ('worst', 'condition'): 2141, ('flooded', 'by'): 954, ('at', 'a'): 1982, ('may', 'be'): 612, ('of', 'rmz'): 647, ('than', '60cms'): 1631, ('street', 'at'): 1434, ('between', 'lb'): 1558, ('slime', 'is'): 1716, ('drains', 'and'): 888, ('floodingdue', 'to'): 1822, ('the', 'entire'): 643, ('water', 'not'): 882, ('in', 'seethamma'): 849, ('stagnated', 'water'): 1623, ('they', 'are'): 1060, ('overflowing', 'and'): 2001, ('more', 'than'): 558, ('single', 'lane'): 994, ('there', 'not'): 289, ('intrution', 'from'): 204, ('logging', 'level'): 933, ('roads', 'between'): 1557, ('in', 'singaperumal'): 2108, ('flooded', 'almost'): 454, ('lower', 'level'): 1983, ('estuary', 'sand'): 1799, ('note', 'there'): 1833, ('an', 'hour'): 325, ('7th', 'main'): 471, ('from', 'the'): 205, ('road', 'for'): 1860, ('days', 'now'): 1517, ('not', 'ok'): 2148, ('was', 'horrible'): 900, ('water', 'that'): 1408, ('pallikaranai', 'to'): 239, ('konnur', 'high'): 1153, ('in', 'kasturba'): 1523, ('floodedwas', 'flooded'): 874, ('towards', 'guindy'): 1844, ('body', 'is'): 235, ('built', 'a'): 2067, ('office', 'street'): 1433, ('mrc', 'main'): 1098, ('much', 'water'): 14, ('omr', 'apollo'): 267, ('is', 'drained'): 1125, ('velachery', 'urgent'): 1296, ('both', 'sides'): 161, ('clotted', 'in'): 1469, ('ttk', 'nagar'): 1223, ('around', '30cms'): 297, ('puram', 'lake'): 1123, ('get', 'into'): 1347, ('anna', 'nagar'): 1128, ('towards', 'telephone'): 1186, ('building', 'is'): 1752, ('water', 'get'): 1346, ('enters', 'ground'): 379, ('inspite', 'of'): 1411, ('road', 'also'): 1133, ('away', 'and'): 1017, ('is', 'knee'): 620, ('full', 'water'): 492, ('slow', 'may'): 611, ('while', 'raining'): 253, ('kamaraj', 'ave'): 1539, ('to', '15'): 678, ('levels', 'are'): 1610, ('drainage', 'overflowing'): 1731, ('bypassleading', 'to'): 115, ('mallika', 'nagar'): 1225, ('floor', 'houses'): 317, ('areathere', 'is'): 867, ('wheeler', 'or'): 248, ('even', 'the'): 1976, ('here', 'hope'): 419, ('wastewater', 'logged'): 1256, ('might', 'increase'): 1065, ('in', 'drainage'): 1877, ('velachery', 'bypassleading'): 114, ('deep', 'in'): 1164, ('nagar', '4th'): 1572, ('if', 'people'): 186, ('safe', 'dont'): 72, ('stinking', 'and'): 1744, ('lake', 'encroached'): 654, ('in', 'river'): 1596, ('one', 'side'): 987, ('low', 'flood'): 157, ('it', 'continues'): 320, ('level', 'varies'): 934, ('by', 'streams'): 955, ('roads', 'and'): 1424, ('condition', 'in'): 2142, ('stagnant', 'at'): 973, ('level', 'is'): 582, ('10', 'pm'): 895, ('am', 'in'): 477, ('from', 'velachery'): 113, ('to', 'take'): 443, ('flooded', 'dont'): 244, ('stagnation', 'on'): 1089, ('the', 'entrance'): 1071, ('krishna', 'nagaraj'): 839, ('are', 'under'): 121, ('stagnation', 'location'): 2191, ('raja', 'nagar'): 844, ('so', 'be'): 706, ('colony', 'flooded'): 953, ('logging', 'is'): 1380, ('towards', 'purswakkam'): 1365, ('has', 'reduced'): 1300, ('at', 'higher'): 1092, ('suggestion', 'is'): 1616, ('a', 'house'): 1753, ('olympia', 'tech'): 717, ('over', 'it'): 2129, ('the', 'velachery'): 206, ('bye', 'pass'): 1666, ('view', 'road'): 1598, ('flows', 'from'): 652, ('drainage', 'is'): 1377, ('turned', 'off'): 1280, ('insects', 'pose'): 1746, ('as', 'storm'): 1868, ('health', 'of'): 1645, ('club', 'road'): 1075, ('connect', 'with'): 1466, ('just', 'flowing'): 640, ('not', 'advisable'): 982, ('the', 'center'): 2122, ('as', 'well'): 1606, ('gets', 'drain'): 1608, ('god', 'helps'): 421, ('always', 'an'): 726, ('flowing', 'through'): 641, ('damaged', 'and'): 2126, ('main', 'roads'): 198, ('few', 'nearby'): 1332, ('some', 'serios'): 1816, ('02112017', 'at'): 893, ('of', '7'): 475, ('mcn', 'nagar'): 1373, ('even', 'today'): 1738, ('situation', 'very'): 1144, ('while', 'driving'): 170, ('flyover', 'and'): 1909, ('that', 'water'): 1063, ('is', 'highly'): 1857, ('water', 'lagging'): 584, ('waterstrictly', 'avoid'): 1012, ('for', 'small'): 1813, ('gandhi', 'street'): 1805, ('but', 'not'): 1576, ('of', 'mosquitoes'): 2027, ('a', 'quick'): 1676, ('flood', 'affected'): 158, ('levelit', 'gets'): 663, ('in', 'alwarpet'): 1595, ('n', 'live'): 1953, ('drive', 'to'): 283, ('over', 'zoom'): 588, ('even', 'for'): 1812, ('road', 'and'): 1076, ('drive', 'the'): 750, ('unleashed', 'rain'): 32, ('inaccessible', 'main'): 227, ('water', 'flow'): 1400, ('zoom', 'and'): 589, ('logged', 'above'): 741, ('majorly', 'in'): 1282, ('road', 'flyover'): 8, ('that', 'place'): 1626, ('help', 'in'): 2024, ('the', 'curb'): 1090, ('and', 'all'): 1509, ('in', 'night'): 76, ('bike', 'and'): 748, ('ags', 'colony'): 485, ('to', 'continuous'): 329, ('deep', 'water'): 81, ('am', 'friday'): 1083, ('it’s', 'floofing'): 2071, ('really', 'bad'): 1984, ('avaliable', 'makes'): 465, ('the', 'underpass'): 1612, ('over', 'this'): 1245, ('of', 'sardar'): 1157, ('flooded', 'on'): 875, ('a', 'simple'): 2051, ('due', 'to'): 328, ('cross', 'the'): 1853, ('streets', 'n'): 676, ('logging', 'this'): 722, ('arogya', 'annai'): 1475, ('we', 'have'): 856, ('for', 'us'): 2019, ('nagar', 'totally'): 483, ('road', 'inner'): 224, ('continuous', 'innuandation'): 1420, ('water', 'blockades'): 1406, ('drains', 'block'): 2177, ('level', 'on'): 1036, ('on', 'either'): 1314, ('non', 'gear'): 1690, ('river', 'view'): 1597, ('but', 'all'): 1713, ('at', 'gemini'): 682, ('traffic', 'can'): 1351, ('but', 'it'): 697, ('poor', 'sewerage'): 521, ('colony', 'velachery'): 943, ('water', 'flowing'): 139, ('hour', 'more'): 326, ('hospitals', 'has'): 2060, ('in', 'half'): 1257, ('about', 'to'): 135, ('days', 'not'): 1448, ('chance', 'then'): 1053, ('water', 'stagged'): 1962, ('this', 'road'): 1141, ('not', 'cleared'): 1736, ('bhaktavatchalam', 'nagar'): 1551, ('around', '1'): 1030, ('sivan', 'kovil'): 1913, ('is', 'stagnant'): 972, ('to', 'avoid'): 1140, ('prevent', 'flooding'): 929, ('and', 'cant'): 99, ('safe', 'if'): 185, ('road', 'no'): 915, ('sozhanagar', 'ambattur'): 1723, ('year', 'officials'): 537, ('all', 'along'): 1905, ('drain', 'block'): 2188, ('btw', 'tharamani'): 264, ('at', 'thigh'): 974, ('sangeetha', 'restaurant'): 1161, ('proper', 'water'): 1928, ('this', 'entire'): 1789, ('which', 'may'): 2077, ('baby', '9940567676'): 2202, ('flooded', 'with'): 52, ('roads', 'from'): 112, ('waterlogged', 'streets'): 2, ('water', 'safe'): 15, ('are', 'highly'): 2124, ('or', 'bike'): 1050, ('no', 'sign'): 978, ('the', 'lake'): 1136, ('logging', 'as'): 276, ('is', 'overflowing'): 236, ('network', 'and'): 431, ('dont', 'use'): 245, ('place', 'fully'): 1312, ('in', 'to'): 2041, ('turns', 'into'): 38, ('3', 'nov'): 281, ('of', 'omr'): 890, ('interior', 'streets'): 909, ('water', 'from'): 497, ('broken', 'nearby'): 1999, ('on', '6th'): 925, ('move', 'from'): 669, ('ground', 'to'): 672, ('of', 'situation'): 860, ('approach', 'more'): 193, ('conditions', 'are'): 1887, ('partial', 'floodingdue'): 1821, ('2', 'feet'): 560, ('inundation', 'here'): 1308, ('any', 'inundation'): 1307, ('water', 'enters'): 378, ('on', 'heavy'): 1254, ('flooded', 'kagithapuram'): 837, ('damaged', 'manholes'): 760, ('urapakkam', 'avm'): 1437, ('water', 'stagnate'): 2074, ('the', 'mrc'): 1097, ('open', 'drain'): 2044, ('cant', 'walk'): 100, ('height', 'water'): 258, ('properly', 'and'): 1749, ('starting', 'place'): 1311, ('from', 'lake'): 653, ('area', 'due'): 1873, ('free', 'of'): 912, ('chokkalingam', 'nagar'): 512, ('vidhyashram', 'natco'): 951, ('as', 'of'): 277, ('centre', 'of'): 1086, ('hasthinapuramchromepet', 'chennai'): 1809, ('intersection', 'skolathur'): 1656, ('for', 'past'): 1445, ('annai', 'hospital'): 1476, ('then', 'be'): 1054, ('and', 'mohammed'): 2086, ('like', 'this'): 1527, ('level', 'above'): 1335, ('road', 'in'): 2107, ('from', 'perungalathur'): 784, ('officials', 'have'): 538, ('places', '50cm'): 520, ('be', 'careful'): 108, ('ft', 'of'): 680, ('to', 'use'): 984, ('in', 'danger'): 960, ('scene', 'at'): 1969, ('flooded', 'throughout'): 470, ('street', 'is'): 1981, ('30cms', 'deep'): 298, ('to', '2015'): 402, ('slope', 'of'): 2090, ('spic', 'nagar'): 201, ('of', 'diseases'): 2100, ('dumps', 'damaged'): 1603, ('are', 'spreading'): 2170, ('time', 'there'): 1940, ('nagar', 'periyakovilambakkam'): 1670, ('flooded', 'its'): 1137, ('of', 'adjacent'): 931, ('flow', 'is'): 608, ('8th', 'east'): 397, ('velachery', 'bypass'): 394, ('an', 'area'): 727, ('flooding', 'of'): 930, ('till', 'a'): 1684, ('in', 'ramani'): 1220, ('been', 'always'): 725, ('ace', 'was'): 1208, ('above', 'knee'): 209, ('please', 'help'): 2189, ('around', 'kattupakkam'): 2205, ('the', 'areas'): 541, ('smellthreat', 'to'): 1643, ('troubles', 'residents'): 524, ('to', 'move'): 668, ('or', 'low'): 249, ('feet', 'no'): 561, ('velachery', 'main'): 207, ('rain', 'comes'): 1342, ('is', 'logged'): 335, ('closed', 'to'): 308, ('rice', 'and'): 1662, ('urgent', 'measures'): 779, ('is', 'almost'): 1703, ('avm', 'nagar'): 1438, ('navigable', 'because'): 1578, ('holes', 'the'): 1885, ('porur', 'and'): 285, ('into', 'some'): 764, ('thaiyur', 'offomr'): 1458, ('velmurugan', 'store'): 1178, ('alwarpet', 'it'): 852, ('rains', 'use'): 820, ('skolathur', 'road'): 907, ('drain', 'system'): 1927, ('sewerage', 'system'): 522, ('dhandesswaram', 'velachery'): 503, ('rain', 'and'): 1874, ('need', 'immediate'): 2156, ('the', 'slime'): 1715, ('stagned', 'in'): 1872, ('flooded', 'and'): 965, ('stagnates', 'in'): 2093, ('water', 'as'): 2161, ('and', 'also'): 1663, ('travel', 'electricity'): 1277, ('water', 'pretty'): 150, ('adambakkam', 'to'): 1330, ('road', 'from'): 84, ('water', 'draining'): 774, ('by', 'all'): 998, ('now', 'near'): 1518, ('ll', 'know'): 595, ('1st', 'main'): 1441, ('heavy', 'water'): 1443, ('as', 'bad'): 1534, ('4th', 'st'): 1573, ('the', 'floody'): 2111, ('flooded', 'to'): 556, ('9th', 'cross'): 1426, ('safe', 'zone'): 154, ('is', 'more'): 583, ('leave', 'from'): 392, ('muthuramalinga', 'thevar'): 1078, ('risky', 'while'): 1398, ('till', 'knee'): 105, ('with', 'pot'): 1891, ('cm', 'water'): 457, ('today', '8th'): 1739, ('connects', 'to'): 374, ('some', 'help'): 1829, ('lake', 'near'): 1835, ('footage', 'from'): 1108, ('the', 'rains'): 1776, ('avenue', '2nd'): 1183, ('water', 'to'): 314, ('vehicles', 'prefer'): 1510, ('water', 'above'): 1402, ('hardly', 'any'): 1306, ('rain', 'intensity'): 406, ('water', 'pot'): 1883, ('is', 'too'): 609, ('has', 'damaged'): 1930, ('road', 'chennai'): 1648, ('fully', 'flooded'): 573, ('to', 'mosquitoes'): 2080, ('nagar', 'mor'): 848, ('might', 'approach'): 192, ('flooded', 'outside'): 715, ('of', 'water'): 564, ('floor', 'sleepless'): 380, ('rammiyam', 'super'): 809, ('lane', 'is'): 995, ('to', 'porur'): 284, ('is', 'water'): 396, ('indira', '28th'): 732, ('showers', 'have'): 1771, ('expect', 'delays'): 1001, ('a', 'medicinal'): 2068, ('totally', 'water'): 484, ('the', 'bike'): 747, ('route', 'is'): 242, ('to', 'venkatarangam'): 625, ('this', 'is'): 1484, ('with', 'mud'): 1388, ('medavakkam', 'police'): 1915, ('valmiki', 'street'): 354, ('at', 'ags'): 1234, ('stretch', 'is'): 481, ('decent', 'amout'): 2138, ('vehicle', 'take'): 1215, ('the', 'drainage'): 1412, ('vehicles', 'especially'): 1995, ('bhaktavatsalam', 'nagar'): 1192, ('near', 'the'): 177, ('of', 'storm'): 886, ('use', 'the'): 1019, ('and', 'we'): 2172, ('9th', 'street'): 2182, ('stagnate', 'in'): 2075, ('drain', 'inlet'): 918, ('near', 'that'): 1761, ('nagaraj', 'lic'): 840, ('seems', 'stranded'): 181, ('extension', 'velachery'): 1295, ('damaged', 'the'): 1931, ('day', 'unleashed'): 31, ('the', 'junction'): 1919, ('thaiyur', 'lake'): 499, ('to', '3'): 939, ('water', 'i'): 2198, ('over', '6hrs'): 332, ('wheeler', 'and'): 1039, ('stay', 'back'): 701, ('this', 'has'): 723, ('of', 'more'): 962, ('16th', 'main'): 1971, ('here', 'do'): 946, ('than', '2'): 559, ('iit', 'velachery'): 1356, ('rising', 'slowly'): 45, ('no', 'flood'): 472, ('near', 'otteri'): 1155, ('and', 'above'): 1252, ('drains', 'water'): 2212, ('nagar', 'ttk'): 1222, ('kbg', 'nagar'): 1669, ('to', 'approved'): 657, ('water', 'will'): 1118, ('nagar', 'between'): 218, ('logged', 'however'): 336, ('harihara', 'temple'): 1722, ('rising', 'water'): 433, ('here', 'in'): 1219, ('deep', 'drainage'): 299, ('to', 'dangerous'): 2131, ('was', 'flooded'): 892, ('singaperumal', 'koil'): 2109, ('be', 'there'): 1007, ('mild', 'showers'): 1770, ('to', 'harihara'): 1721, ('cathedral', 'road'): 7, ('are', 'mostly'): 1496, ('go', 'only'): 175, ('much', 'of'): 2164, ('at', 'gst'): 2105, ('hussain', 'colony'): 2088, ('metro', 'water'): 1882, ('affected', 'area'): 159, ('flooding', 'at'): 1451, ('rain', 'submerged'): 33, ('foot', 'water'): 230, ('a', 'pity'): 854, ('every', 'time'): 1939, ('puddles', 'and'): 1584, ('in', 'west'): 59, ('near', 'kandigai'): 835, ('intensity', 'has'): 407, ('night', 'time'): 77, ('hard', 'to'): 1951, ('mixed', 'with'): 1026, ('flooding', 'the'): 1990, ('here', 'as'): 474, ('safe', 'only'): 16, ('its', 'very'): 1850, ('stagnation', 'as'): 1923, ('is', 'blocked'): 1878, ('raised', 'stephenson'): 691, ('street', 'of'): 2183, ('in', 'the'): 352, ('turning', 'stinky'): 1699, ('part', 'of'): 1866, ('if', 'no'): 1052, ('entire', 'road'): 213, ('rain', 'no'): 2053, ('time', 'to'): 1238, ('recent', 'metro'): 1881, ('in', 'our'): 2096, ('and', 'drive'): 749, ('medavakkam', 'route'): 241, ('other', 'side'): 991, ('can', 'move'): 1352, ('cloth', 'store'): 87, ('from', 'where'): 803, ('at', 'other'): 1395, ('level', 'also'): 1336, ('heavy', 'rain'): 57, ('is', 'increasing'): 681, ('little', 'water'): 1545, ('kotturpuram', 'is'): 370, ('stagnate', 'over'): 1244, ('work', 'and'): 1582, ('in', 'from'): 622, ('nov', '17'): 1085, ('backwaters', 'is'): 1797, ('colony', '3rd'): 1201, ('continues', 'to'): 321, ('its', 'better'): 1138, ('area', 'which'): 1791, ('back', 'home'): 1478, ('end', 'risky'): 1397, ('tulsi', 'silks'): 90, ('water', 'and'): 1636, ('have', 'no'): 539, ('morning', 'as'): 346, ('and', 'open'): 1987, ('less', 'potholes'): 1273, ('clogs', 'in'): 879, ('bypass', 'road'): 395, ('car', 'gets'): 1041, ('for', 'safe'): 71, ('gp', 'road'): 881, ('receding', 'no'): 1262, ('subway', 'is'): 964, ('opal', 'homes'): 1142, ('has', 'come'): 805, ('all', 'streets'): 675, ('dav', 'school'): 1328, ('road', 'conditions'): 1886, ('inundation', 'is'): 2004, ('near', 'hero'): 1519, ('you', 'll'): 594, ('of', 'otteri'): 688, ('advisable', 'to'): 983, ('to', 'rain'): 322, ('lic', 'nagar'): 633, ('and', 'rising'): 432, ('but', 'is'): 1302, ('light', 'there'): 1945, ('less', 'than'): 1548, ('the', 'water'): 667, ('nov', 'in'): 1741, ('logging', 'all'): 436, ('fromdrivers', 'must'): 1819, ('waterlog', 'around'): 296, ('in', 'kbg'): 1668, ('4cm', 'rainfall'): 66, ('manageable', 'waterlogging'): 836, ('for', 'a'): 1514, ('tambaram', 'are'): 787, ('almost', 'knee'): 55, ('out', 'water'): 1938, ('the', 'streeta'): 467, ('2nd', 'cross'): 2031, ('is', 'the'): 1967, ('8th', '9th'): 1228, ('switch', 'to'): 359, ('to', 'drive'): 294, ('to', 'knee'): 1151, ('feet', 'to'): 938, ('veeranam', 'road'): 1460, ('street', 'year'): 534, ('in', 'crossing'): 1003, ('not', 'yet'): 1649, ('theres', 'water'): 2150, ('walk', 'and'): 2022, ('whole', 'road'): 1096, ('kathirvedu', 'ch66'): 2012, ('pumping', 'out'): 1937, ('has', 'stoppedbut'): 797, ('water', 'levels'): 686, ('and', 'built'): 2066, ('water', 'clogs'): 878, ('already', 'knee'): 255, ('stinky', 'and'): 1700, ('subway', 'near'): 2153, ('area', 'of'): 728, ('will', 'always'): 1242, ('during', 'rains'): 819, ('the', 'scene'): 1968, ('severe', 'water'): 435, ('lake', 'is'): 1124, ('in', 'kolathur'): 2084, ('up', 'with'): 304, ('lake', 'water'): 496, ('service', 'road'): 260, ('street', 'while'): 252, ('water', 'note'): 1832, ('very', 'less'): 148, ('dark', 'to'): 442, ('because', 'appolo'): 2058, ('are', 'flooded'): 200, ('down', 'flow'): 607, ('makes', 'the'): 466, ('known', 'by'): 344, ('days', 'need'): 1674, ('damaged', 'roads'): 1604, ('area', 'huge'): 2097, ('gatetnphc', 'apartment'): 1358, ('street', 'both'): 735, ('the', 'insects'): 1745, ('public', 'use'): 969, ('drain', 'broken'): 1998, ('as', 'before'): 1382, ('entire', 'stretch'): 480, ('location', 'puthagaram'): 2192, ('spic', 'underbridge'): 1759, ('stagnation', 'problem'): 2082, ('adayar', 'river'): 1309, ('clearing', 'some'): 614, ('from', 'thaiyur'): 498, ('increase', 'further'): 1066, ('washermenpetthiruvallur', 'high'): 1589, ('lower', 'ground'): 671, ('few', 'holes'): 1600, ('bridge', 'road'): 827, ('on', 'increasing'): 599, ('restaurant', 'are'): 1162, ('water', 'entering'): 1212, ('to', 'ormes'): 1023, ('blockages', 'in'): 1876, ('high', 'and'): 976, ('this', 'part'): 1865, ('yet', 'cleared'): 1650, ('cleared', 'even'): 1737, ('flooded', 'till'): 1180, ('private', 'transportations'): 1863, ('srm', 'universityplease'): 388, ('thirumagal', 'nagar'): 1325, ('near', 'raj'): 1846, ('in', 'road'): 1470, ('immersed', 'in'): 2197, ('station', 'and'): 1917, ('7', 'am'): 476, ('foot', 'up'): 1472, ('in', 'ags'): 942, ('off', 'majorly'): 1281, ('and', 'blocked'): 966, ('use', 'right'): 970, ('at', '16th'): 1970, ('sumps', 'in'): 768, ('filled', 'up'): 165, ('20', 'ft'): 913, ('by', 'but'): 1837, ('upto', 'knee'): 2179, ('okay', 'water'): 1088, ('3', 'feet'): 940, ('to', 'vadapalani'): 1907, ('luz', 'church'): 82, ('the', 'car'): 751, ('is', 'a'): 853, ('the', 'flooding'): 338, ('for', 'some'): 384, ('all', 'areas'): 1284, ('bit', 'of'): 2104, ('mostly', 'without'): 1497, ('calf', 'level'): 1259, ('less', 'depth'): 2035, ('the', 'valmiki'): 353, ('if', 'any'): 1340, ('clear', 'the'): 2160, ('nagar', 'at'): 2186, ('store', 'flooded'): 1179, ('less', 'effective'): 1870, ('nagar', 'is'): 555, ('drains', 'could'): 617, ('model', 'school'): 47, ('citys', 'infrastructure'): 864, ('no', 'outlet'): 462, ('need', 'a'): 1675, ('proper', 'drain'): 1926, ('there', 'with'): 1047, ('logging', 'near'): 1845, ('near', 'sangeetha'): 1160, ('taken', 'from'): 25, ('is', 'quite'): 1621, ('water', 'drains'): 616, ('stucked', 'please'): 1043, ('this', 'path'): 1005, ('outside', 'olympia'): 716, ('simple', 'rain'): 2052, ('house', 'side'): 580, ('colony', 'auto'): 708, ('near', 'by'): 1836, ('playground', 'and'): 36, ('store', 'till'): 88, ('till', 'tulsi'): 89, ('footpath', 'centre'): 1506, ('to', 'other'): 990, ('manhole', 'proceed'): 232, ('and', 'tomorrow'): 197, ('stagnation', 'from'): 1326, ('got', 'mixed'): 302, ('hey', 'water'): 179, ('backside', 'of'): 1911, ('small', 'baby'): 2201, ('end', 'flowing'): 1392, ('nagar', 'north'): 118, ('thalambur', 'have'): 1897, ('almost', 'waist'): 1704, ('way', 'to'): 1824, ('the', 'whole'): 2117, ('standing', 'water'): 1100, ('receding', 'very'): 1272, ('chance', 'of'): 563, ('nagar', 'rain'): 202, ('ok', 'to'): 754, ('are', 'just'): 1611, ('of', 'ags'): 1429, ('bagyalakshmi', 'nagar'): 842, ('danger', 'of'): 961, ('the', 'mildest'): 1977, ('flow', 'across'): 1619, ('balaji', 'nagar'): 1287, ('and', 'it'): 1371, ('patel', 'road'): 1159, ('water', 'escaping'): 1961, ('for', 'vehicles'): 1994, ('is', 'an'): 1792, ('is', 'getting'): 163, ('entrance', 'of'): 1072, ('s', 'flooded'): 694, ('boat', 'club'): 1074, ('water', 'puddles'): 1583, ('is', 'used'): 996, ('left', 'in'): 1718, ('full', 'locality'): 627, ('rains', 'tonight'): 195, ('go', 'by'): 490, ('am', '3'): 280, ('are', 'pumping'): 1936, ('and', 'vasantha'): 2207, ('nagar', '23'): 1288, ('knee', 'depth'): 546, ('to', 'go'): 1682, ('driving', 'two'): 171, ('to', 'traffic'): 309, ('between', 'water'): 219, ('there', 'is'): 348, ('at', 'this'): 1461, ('flowing', 'water'): 147, ('till', 'now'): 156, ('floody', 'water'): 2112, ('ok', 'but'): 507, ('flowing', 'canal'): 1393, ('lane', 'and'): 531, ('at', 'gandhi'): 1804, ('indira', 'nagar'): 217, ('with', 'atleast'): 720, ('for', 'the'): 666, ('sleepless', 'night'): 381, ('extn', 'lic'): 632, ('heavily', 'water'): 740, ('shastri', '11th'): 447, ('flood', 'water'): 473, ('from', '1'): 936, ('anna', 'saalai'): 367, ('road', 'via'): 515, ('going', 'towards'): 1843, ('around', 'ram'): 543, ('potholes', 'and'): 1986, ('raining', 'at'): 424, ('have', 'increased'): 1112, ('drain', 'the'): 1831, ('this', 'kind'): 858, ('flooded', 'needs'): 548, ('due', 'rain'): 1405, ('from', 'near'): 26, ('parallel', 'road'): 869, ('roadwater', 'stagnates'): 2092, ('of', 'flooding'): 1956, ('huge', 'water'): 2098, ('also', 'in'): 1664, ('increasing', 'slowly'): 1338, ('even', 'though'): 1375, ('support', 'to'): 2158, ('from', 'surrounding'): 957, ('15', 'ft'): 679, ('street', 'to'): 927, ('moved', 'to'): 1727, ('fact', 'entire'): 479, ('up', 'go'): 166, ('reported', 'water'): 1033, ('still', 'as'): 1381, ('is', 'black'): 1637, ('street', 'kathirvedu'): 2011, ('water', 'almost'): 54, ('reduced', 'but'): 1301, ('kolathur', 'bharathi'): 2085, ('increased', 'since'): 1113, ('to', 'recent'): 1880, ('is', 'at'): 1803, ('suburamanium', 'street'): 1168, ('not', 'receding'): 1449, ('nagar', 'on'): 1193, ('7th', 'cross'): 452, ('ambattur', 'people'): 1724, ('narayanapuram', 'lake'): 901, ('not', 'go'): 489, ('near', 'iit'): 1355, ('couple', 'of'): 1530, ('and', 'very'): 2134, ('depth', 'than'): 2036, ('the', 'health'): 1644, ('college', 'is'): 575, ('be', 'clearing'): 613, ('stagnated', 'all'): 1904, ('if', 'it'): 319, ('secretariat', 'colony'): 572, ('continuous', 'rains'): 330, ('towards', 'anna'): 366, ('the', 'drains'): 2176, ('of', '2nd'): 1196, ('coovum', 'river'): 2064, ('of', 'lloyds'): 526, ('egattur', 'thalambur'): 1892, ('stretch', 'was'): 899, ('from', 'one'): 986, ('pits', 'water'): 1902, ('to', 'lb'): 222, ('do', 'not'): 390, ('gemini', 'flyover'): 683, ('drive', 'with'): 1211, ('road', 'adyar'): 1198, ('escape', 'need'): 1827, ('harmful', 'for'): 2136, ('any', 'stagnation'): 1499, ('enter', 'the'): 137, ('water', 'more'): 1630, ('road', 'it'): 1742, ('showroom', 'in'): 1522, ('to', 'kathipara'): 375, ('this', 'for'): 1528, ('vandalur', 'road'): 833, ('lying', 'cars'): 1014, ('stay', 'flooded'): 469, ('areas', 'of'): 1285, ('small', 'roads'): 1556, ('on', 'roads'): 63, ('sarathy', 'nagar'): 1292, ('came', 'inside'): 1105, ('been', 'turned'): 1279, ('in', 'kattupakkam'): 1103, ('streeta', 'stay'): 468, ('move', 'slowly'): 1353, ('dayssewage', 'got'): 1635, ('more', 'rain'): 1010, ('theres', 'no'): 1848, ('of', '12'): 278, ('exactly', 'ags'): 807, ('2nd', 'st'): 1541, ('road', 'has'): 1385, ('and', 'waterlogged'): 1, ('side', 'going'): 1842, ('own', 'urgent'): 778, ('pity', 'we'): 855, ('and', 'the'): 605, ('help', 'needed'): 569, ('flooded', 'during'): 818, ('to', 'velachery'): 1486, ('20', 'cm'): 456, ('very', 'harmful'): 2135, ('shutdown', 'so'): 705, ('close', 'to'): 401, ('local', 'government'): 1729, ('not', 'leave'): 391, ('mixed', 'up'): 303, ('very', 'dangerous'): 1992, ('and', 'kasturba'): 1559, ('floor', 'homes'): 422, ('raman', 'street'): 1264, ('pass', 'roads'): 1667, ('as', 'no'): 1924, ('caution', 'while'): 417, ('kuberan', 'nagar'): 630, ('sw', 'drain'): 923, ('on', 'its'): 776, ('draining', 'inspite'): 1410, ('homes', 'flooded'): 423, ('storm', 'water'): 887, ('road', 'very'): 1991, ('stagnant', 'on'): 19, ('as', 'there'): 347, ('atleast', 'knee'): 721, ('periyakovilambakkam', 'for'): 1671, ('are', 'scared'): 1061, ('for', 'park'): 592, ('near', 'iitmadras'): 1361, ('knees', 'need'): 1768, ('varies', 'from'): 935, ('more', 'now'): 327, ('be', 'known'): 343, ('gear', 'bikes'): 1678, ('to', 'alternate'): 360, ('water', 'in'): 493, ('in', 'breeding'): 2025, ('from', 'perambur'): 1173, ('some', 'places'): 519, ('blocked', 'for'): 967, ('bridge', 'water'): 1766, ('gets', 'difficult'): 664, ('roads', 'badly'): 1932, ('and', 'use'): 1018, ('waterlogging', 'near'): 5, ('level', 'too'): 742, ('is', 'stagnated'): 1903, ('water', 'on'): 62, ('logged', 'on'): 362, ('old', 'washermenpetthiruvallur'): 1588, ('come', 'outside'): 74, ('of', 'concern'): 729, ('ankle', 'level'): 310, ('than', 'ankle'): 1094, ('not', 'sure'): 290, ('electricity', 'yet'): 1263, ('road', 'near'): 834, ('sail', 'thru'): 1696, ('water', 'intrution'): 203, ('that', 'started'): 1778, ('metro', 'work'): 1581, ('to', 'this'): 1148, ('road', 'flooded'): 214, ('floodedas', 'usual'): 577, ('bikers', 'beware'): 261, ('several', 'of'): 1553, ('below', 'the'): 127, ('avenue', 'some'): 518, ('gear', 'vehicles'): 1691, ('urapakkam', 'west'): 1480, ('bike', 'if'): 1051, ('place', 'will'): 1627, ('auto', 'stand'): 709, ('of', 'egmore'): 1286, ('rains02nov2017', 'water'): 1117, ('another', 'route'): 1217, ('outlet', 'canal'): 463, ('streams', 'from'): 956, ('houses', 'and'): 766, ('school', 'road'): 48, ('cross', 'st'): 449, ('take', 'a'): 444, ('light', 'rain'): 1966, ('logged', 'upto'): 500, ('the', 'diversion'): 1383, ('a', 'safe'): 153, ('into', 'adyar'): 1795, ('feet', 'and'): 1031, ('do', 'something'): 1710, ('rainfall', 'still'): 67, ('no', 'way'): 771, ('saalai', 'via'): 368, ('system', 'troubles'): 523, ('traffic', 'safe'): 1276, ('of', 'kuberan'): 629, ('street', 'are'): 1231, ('nagar', 'raja'): 843, ('inside', 'chennai'): 272, ('drainage', 'water'): 300, ('flooding', 'on'): 2014, ('logging', 'avoid'): 144, ('both', 'the'): 736, ('river', 'this'): 1788, ('hospital', 'is'): 269, ('very', 'bad'): 1889, ('vehicles', 'cars'): 1692, ('center', 'median'): 2123, ('zone', 'till'): 155, ('people', 'have'): 1725, ('homes', 'situation'): 1143, ('from', 'rangachari'): 85, ('all', 'vehicles'): 999, ('but', 'ok'): 753, ('are', 'swimming'): 238, ('two', 'day'): 30, ('road', 'kotturpuram'): 1599, ('945', 'am'): 1082, ('pretty', 'much'): 151, ('have', 'moved'): 1726, ('makes', 'it'): 2017, ('which', 'makes'): 2016, ('two', 'wheelrs'): 172, ('other', 'parts'): 1895, ('slowly', 'if'): 1339, ('is', 'flooded'): 243, ('will', 'be'): 342, ('area', 'as'): 1855, ('of', 'school'): 1733, ('tank', 'to'): 221, ('escape', 'its'): 1849, ('of', 'csir'): 1316, ('exchange', 'signal'): 1188, ('inside', 'houses'): 1106, ('link', 'road'): 1894, ('road', 'at'): 1080, ('road', 'velmurugan'): 1177, ('side', 'of'): 988, ('are', 'very'): 1888, ('knee', 'height'): 1152, ('street', 'kalakshetra'): 355, ('the', 'side'): 1841, ('road', 'the'): 1501, ('it', 'is'): 586, ('stagnation', 'around'): 1029, ('encroached', 'area'): 655, ('there', 'if'): 1008, ('flooding', 'and'): 0, ('side', 'skolathur'): 906, ('is', 'till'): 1368, ('encroachment', 'into'): 1794, ('11th', 'cross'): 448, ('just', 'a'): 1543, ('the', 'under'): 813, ('telephone', 'exchange'): 1187, ('lb', 'road'): 223, ('road', 'is'): 49, ('immediate', 'support'): 2157, ('is', 'floodedas'): 576, ('ankle', 'height'): 257, ('st', 'kasturba'): 1542, ('speed', 'up'): 619, ('below', 'knee'): 504, ('intuc', 'nagar'): 2008, ('the', 'street'): 769, ('about', 'nearly'): 2115, ('road', 'dhandesswaram'): 502, ('near', 'thiruvotriyur'): 2154, ('corner', 'from'): 1172, ('near', 'baby'): 553, ('moving', 'out'): 1057, ('stoppedbut', 'water'): 798, ('reflecting', 'on'): 862, ('of', 'thalambur'): 1896, ('a', 'light'): 1965, ('over', 'ok'): 438, ('risk', 'of'): 1567, ('innuandation', 'at'): 1421, ('entire', 'college'): 574, ('via', 'kannan'): 516, ('for', 'pedestrians'): 2137, ('from', 'gandhi'): 363, ('6hrs', 'water'): 333, ('entrance', 'corner'): 1270, ('manimegalai', 'nagar'): 847, ('good', 'suggestion'): 1615, ('picture', 'is'): 23, ('east', 'side'): 1195, ('have', 'knee'): 545, ('rains', 'stagnatted'): 2140, ('and', 'traffic'): 1585, ('flood', 'crossing'): 829, ('too', 'risk'): 743, ('this', 'playground'): 35, ('on', '02112017'): 876, ('residents', 'of'): 525, ('flood', 'damage'): 1763, ('avoid', 'vechicles'): 1013, ('outside', 'in'): 75, ('as', 'we'): 190, ('of', 'medavakkam'): 1914, ('logging', 'in'): 621, ('bbroad', 'corner'): 1171, ('and', 'appakannu'): 532, ('power', 'shutdown'): 704, ('motorists', 'proceed'): 94, ('particularly', 'this'): 1707, ('the', 'footpath'): 1505, ('and', 'pillayar'): 1321, ('to', 'more'): 557, ('here', 'its'): 183, ('back', 'homeanticipating'): 702, ('water', 'stagnated'): 4, ('50cm', 'water'): 17, ('the', 'height'): 2120, ('hero', 'honda'): 1520, ('avenue', 'indira'): 216, ('stagnation', 'traffic'): 1350, ('system', 'installed'): 1414, ('use', 'this'): 948, ('to', 'our'): 2042, ('02112017', '10pm'): 877, ('street', 'entire'): 212, ('colony', 'is'): 486, ('risk', 'to'): 744, ('flooded', 'in'): 1166, ('front', 'of'): 646, ('next', 'to'): 1135, ('its', 'safe'): 184, ('and', 'muthuramalinga'): 1077, ('very', 'close'): 400, ('knee', 'level'): 106, ('has', 'closed'): 2061, ('homeanticipating', 'power'): 703, ('measures', 'wanted'): 780, ('4th', 'main'): 1203, ('drain', 'down'): 1240, ('no', 'storm'): 916, ('road', 'good'): 1614, ('knee', 'and'): 1370, ('people', 'stay'): 187, ('inlet', 'needed'): 919, ('north', 'have'): 544, ('about', '20'): 455, ('can', 'not'): 488, ('into', 'house'): 1348, ('adjacent', 'house'): 932, ('flooding', 'secretariat'): 571, ('above', 'ankle'): 1407, ('sand', 'is'): 1800, ('urgent', 'attention'): 1297, ('at', 'the'): 1070, ('last', 'night'): 1115, ('flooded', 'knee'): 80, ('the', 'roads'): 111, ('cant', 'drive'): 1150, ('and', 'anna'): 1127, ('has', 'lessened'): 408, ('level', 'be'): 107, ('is', 'left'): 1717, ('otteri', 'nalla'): 689, ('9940567676', 'pleas'): 2203, ('at', 'thiruvittiyur'): 2187, ('always', 'flooded'): 817, ('water', 'stagned'): 1871, ('water', 'gets'): 1607, ('bridge', 'is'): 815, ('manage', 'to'): 1681, ('way', 'of'): 1960, ('surrounding', 'roads'): 958, ('water', 'level'): 43, ('is', 'mgr'): 1500, ('perungalathur', 'and'): 785, ('v', 'slowly'): 168, ('and', 'car'): 1040, ('poonamallee', 'high'): 1363, ('water', 'clear'): 1101, ('till', 'the'): 1369, ('draining', 'on'): 775, ('5', 'pm'): 1782, ('puram', '1st'): 1440, ('canal', 'road'): 505, ('flooding', 'in'): 339, ('flooded', 'here'): 1218, ('these', 'small'): 1555, ('potholes', 'moving'): 1274, ('cenatoph', 'chamiers'): 1592, ('more', 'flow'): 1784, ('nearby', 'streets'): 1333, ('visible', 'and'): 1508, ('in', '9th'): 2181, ('is', 'completely'): 50, ('is', 'ok'): 506, ('its', 'own'): 777, ('mrc', 'nagar'): 1436, ('ground', 'floor'): 316, ('the', 'streets'): 737, ('us', 'to'): 2020, ('nagar', '8th'): 1227, ('cars', 'to'): 1015, ('honda', 'showroom'): 1521, ('is', 'less'): 872, ('the', 'down'): 606, ('could', 'speed'): 618, ('road', 's'): 693, ('roads', 'are'): 199}\n",
      "T:  0\n",
      "score:  [[0.24695122]]\n"
     ]
    },
    {
     "name": "stdout",
     "output_type": "stream",
     "text": [
      "T:  200\n",
      "score:  [[0.97560976]]\n",
      "T:  400\n",
      "score:  [[0.97560976]]\n",
      "T:  600\n",
      "score:  [[0.97560976]]\n",
      "T:  800\n",
      "score:  [[0.97560976]]\n"
     ]
    }
   ],
   "source": [
    "\n",
    "\n",
    "import image_recognition.perceptron as ml\n",
    "def run_bigram(report_texts):\n",
    "    vocab, occur, reports_dict =  make_bigram_vocab(report_texts)\n",
    "    features_w_pkey, labels = make_feature_matrix(vocab, reports_dict, flood, no_flood, make_bigram_feature_vector)\n",
    "    features = features_w_pkey[1:, :]\n",
    "    return vocab, occur, reports_dict, features_w_pkey, features, labels\n",
    "    \n",
    "def run_bow(report_texts):\n",
    "    vocab, occur, reports_dict =  make_unary_vocab(report_texts)\n",
    "    features_w_pkey, labels = make_feature_matrix(vocab, reports_dict, flood, no_flood, make_unary_feature_vector)\n",
    "    features = features_w_pkey[1:, :]\n",
    "    return vocab, occur, reports_dict, features_w_pkey, features, labels\n",
    "\n",
    "bow_vocab, bow_occur, bow_reports_dict, bow_features_w_pkey, bow_features, bow_labels = run_bow(loader.get_data())\n",
    "\n",
    "print(bow_vocab)\n",
    "\n",
    "vocab, occur, reports_dict, features_w_pkey, features, labels = run_bigram(loader.get_data())\n",
    "print(vocab)\n",
    "\n",
    "features = np.vstack((features, bow_features))\n",
    "\n",
    "# update the vocab to have correct index in the new feat. vector\n",
    "i = len(vocab)\n",
    "for key, value in bow_vocab.items():\n",
    "    vocab[key] = value + i\n",
    "    occur[key] = bow_occur[key]\n",
    "\n",
    "th, th0 = ml.perceptron(features, labels, params={\"T\":1000, \"print\":True})"
   ]
  },
  {
   "cell_type": "code",
   "execution_count": 26,
   "metadata": {},
   "outputs": [
    {
     "name": "stdout",
     "output_type": "stream",
     "text": [
      "bow\n",
      "933\n",
      "[[0.71341463]]\n",
      "bigram\n",
      "2214\n",
      "[[0.53658537]]\n",
      "both\n",
      "instant:  [[0.74390244]]\n"
     ]
    }
   ],
   "source": [
    "def random_cross_validate_model(data, labels, learner=ml.perceptron, k=5):\n",
    "    full = np.vstack((data,labels)).copy()\n",
    "    np.random.shuffle(full.T)\n",
    "    data = full[:-1, :]\n",
    "    labels = full[-1:, :]\n",
    "\n",
    "    # axis=1 means columns, split into groups of cols\n",
    "    s_data = np.array_split(data, k, axis=1)\n",
    "    s_labels = np.array_split(labels, k, axis=1)\n",
    "    score_sum = 0\n",
    "    for i in range(k):\n",
    "        data_train = np.concatenate(s_data[:i] + s_data[i+1:], axis=1)\n",
    "        labels_train = np.concatenate(s_labels[:i] + s_labels[i+1:], axis=1)\n",
    "        data_test = np.array(s_data[i])\n",
    "        labels_test = np.array(s_labels[i])\n",
    "        \n",
    "        th, th0 = learner(data_train, labels_train, params={\"T\":1000, 'print':False})\n",
    "\n",
    "        # number correctly predicted in test set\n",
    "        score = ml.score(data_test, labels_test, th, th0)\n",
    "        \n",
    "        score_sum += score\n",
    "    return (score_sum)/(labels.shape[1]), score_sum\n",
    "\n",
    "def score_bow():\n",
    "    bow_vocab, bow_occur, bow_reports_dict, bow_features_w_pkey, bow_features, bow_labels = run_bow(loader.get_data())\n",
    "    \n",
    "    print(len(bow_vocab))\n",
    "    score, raw = random_cross_validate_model(bow_features, bow_labels, k=5)\n",
    "    print(score)\n",
    "    return bow_features\n",
    "    \n",
    "\n",
    "def score_bigram():\n",
    "    vocab, occur, reports_dict, features_w_pkey, features, labels = run_bigram(loader.get_data())\n",
    "    print(len(vocab))\n",
    "    score, raw = random_cross_validate_model(features, labels, k=5)\n",
    "    print(score)\n",
    "\n",
    "print(\"bow\")\n",
    "score_bow()\n",
    "\n",
    "print(\"bigram\")\n",
    "score_bigram()\n",
    "\n",
    "\n",
    "print(\"both\")\n",
    "score, raw = random_cross_validate_model(features, labels, k=5)\n",
    "print(\"instant: \", score)\n",
    "\n",
    "#overall = 0\n",
    "#for i in range(1,5):\n",
    "#    score, raw = cross_validate_model(features, labels, k=7)\n",
    "#    overall += raw\n",
    "#    print(\"instant: \", score)\n",
    "#    print(overall/(i*labels.shape[1]))"
   ]
  },
  {
   "cell_type": "code",
   "execution_count": null,
   "metadata": {},
   "outputs": [],
   "source": [
    "chennai = pd.read_sql_query('''\n",
    "    SELECT pkey, created_at, text, image_url, disaster_type, report_data, tags FROM ''' + config[\"database_name\"] + '''.all_reports \n",
    "''', params={\"start_date\": start_known_flood, \"end_date\": end_known_flood}, con=config[\"database_engine\"], index_col=\"pkey\")\n",
    "pd.options.display.max_rows = None\n",
    "pd.options.display.max_colwidth = 1000\n",
    "#from IPython.display import display\n",
    "#chennennaii"
   ]
  },
  {
   "cell_type": "code",
   "execution_count": 10,
   "metadata": {},
   "outputs": [
    {
     "ename": "NameError",
     "evalue": "name 'chennai' is not defined",
     "output_type": "error",
     "traceback": [
      "\u001b[0;31m---------------------------------------------------------------------------\u001b[0m",
      "\u001b[0;31mNameError\u001b[0m                                 Traceback (most recent call last)",
      "\u001b[0;32m<ipython-input-10-8a54718a7ee8>\u001b[0m in \u001b[0;36m<module>\u001b[0;34m\u001b[0m\n\u001b[1;32m      6\u001b[0m \u001b[0;34m\u001b[0m\u001b[0m\n\u001b[1;32m      7\u001b[0m \u001b[0mpred_w_pkey\u001b[0m \u001b[0;34m=\u001b[0m \u001b[0mpd\u001b[0m\u001b[0;34m.\u001b[0m\u001b[0mDataFrame\u001b[0m\u001b[0;34m(\u001b[0m\u001b[0mdata\u001b[0m\u001b[0;34m=\u001b[0m\u001b[0mnp\u001b[0m\u001b[0;34m.\u001b[0m\u001b[0mbool_\u001b[0m\u001b[0;34m(\u001b[0m\u001b[0mpreds\u001b[0m\u001b[0;34m[\u001b[0m\u001b[0;34m:\u001b[0m\u001b[0;34m,\u001b[0m\u001b[0;36m1\u001b[0m\u001b[0;34m]\u001b[0m\u001b[0;34m)\u001b[0m\u001b[0;34m,\u001b[0m \u001b[0mindex\u001b[0m\u001b[0;34m=\u001b[0m\u001b[0mnp\u001b[0m\u001b[0;34m.\u001b[0m\u001b[0mint_\u001b[0m\u001b[0;34m(\u001b[0m\u001b[0mpreds\u001b[0m\u001b[0;34m[\u001b[0m\u001b[0;34m:\u001b[0m\u001b[0;34m,\u001b[0m\u001b[0;36m0\u001b[0m\u001b[0;34m]\u001b[0m\u001b[0;34m)\u001b[0m\u001b[0;34m,\u001b[0m \u001b[0mcolumns\u001b[0m\u001b[0;34m=\u001b[0m\u001b[0;34m[\u001b[0m\u001b[0;34m'predicted_flood'\u001b[0m\u001b[0;34m]\u001b[0m\u001b[0;34m)\u001b[0m\u001b[0;34m\u001b[0m\u001b[0m\n\u001b[0;32m----> 8\u001b[0;31m \u001b[0mtotal_data\u001b[0m \u001b[0;34m=\u001b[0m \u001b[0mpd\u001b[0m\u001b[0;34m.\u001b[0m\u001b[0mconcat\u001b[0m\u001b[0;34m(\u001b[0m\u001b[0;34m[\u001b[0m\u001b[0mchennai\u001b[0m\u001b[0;34m,\u001b[0m\u001b[0mpred_w_pkey\u001b[0m\u001b[0;34m]\u001b[0m\u001b[0;34m,\u001b[0m \u001b[0maxis\u001b[0m\u001b[0;34m=\u001b[0m\u001b[0;36m1\u001b[0m\u001b[0;34m,\u001b[0m \u001b[0mjoin\u001b[0m\u001b[0;34m=\u001b[0m\u001b[0;34m'inner'\u001b[0m\u001b[0;34m)\u001b[0m\u001b[0;34m\u001b[0m\u001b[0m\n\u001b[0m\u001b[1;32m      9\u001b[0m \u001b[0;34m\u001b[0m\u001b[0m\n\u001b[1;32m     10\u001b[0m \u001b[0;32mdef\u001b[0m \u001b[0mf\u001b[0m\u001b[0;34m(\u001b[0m\u001b[0minp\u001b[0m\u001b[0;34m)\u001b[0m\u001b[0;34m:\u001b[0m\u001b[0;34m\u001b[0m\u001b[0m\n",
      "\u001b[0;31mNameError\u001b[0m: name 'chennai' is not defined"
     ]
    }
   ],
   "source": [
    "res = np.dot(features.T, th) + th0\n",
    "predicted_flood = (res > 0).T[0,:]\n",
    "\n",
    "preds = np.vstack((features_w_pkey[0,:], predicted_flood)).T\n",
    "preds\n",
    "\n",
    "pred_w_pkey = pd.DataFrame(data=np.bool_(preds[:,1]), index=np.int_(preds[:,0]), columns=['predicted_flood'])\n",
    "total_data = pd.concat([chennai,pred_w_pkey], axis=1, join='inner')\n",
    "\n",
    "def f(inp):\n",
    "    return inp.get('flood_depth', None)\n",
    "\n",
    "total_data['flood_depth'] = total_data.report_data.apply(f)\n",
    "# total_data['flood_depth'] =  pd.io.json.json_normalize(total_data.report_data, meta='flood_depth')['flood_depth']\n",
    "\n",
    "total_data.drop(['tags'], axis=1)\n",
    "# total_data['created_at'] = pd.to_datetime(total_data['created_at'], utc=True)\n",
    "# total_data['created_at'] = pd.to_datetime(total_data['created_at'])\n",
    "total_data"
   ]
  },
  {
   "cell_type": "code",
   "execution_count": 9,
   "metadata": {},
   "outputs": [],
   "source": [
    "%matplotlib widget"
   ]
  },
  {
   "cell_type": "code",
   "execution_count": null,
   "metadata": {},
   "outputs": [],
   "source": [
    "#total_data = total_data.set_index(['created_at'], append=True, drop=False)\n",
    "#plt.plot(total_data['created_at'], total_data['flood_depth'])\n",
    "#total_data.loc[total_data.index < 400, :]\n",
    "plot_data = total_data.loc[total_data.index < 600, :].copy()\n",
    "\n",
    "# let's color pred flood as green, pred noFlood as red\n",
    "plot_data.loc[plot_data.predicted_flood == True, 'c'] = 'green'\n",
    "plot_data.loc[plot_data.predicted_flood == False, 'c'] = 'red'\n",
    "\n",
    "\n",
    "#plot_data['c'] = 'red'\n",
    "# plot_data.plot(x='created_at', y='flood_depth', color='blue', style='.')\n",
    "plot_data['created_at'] = pd.to_datetime(plot_data.created_at, utc=True)\n",
    "\n",
    "# utc -> Timestamp('2017-10-19 19:02:04.299000+0000', tz='UTC')\n",
    "#plot_data[['created_at','flood_depth', 'c', 'predicted_flood']]\n",
    "\n",
    "plot_data['num_index'] = range(0, plot_data.shape[0])\n",
    "#plot_data = plot_data.set_index(['num_index'], append=True, drop=False)\n",
    "\n",
    "plot_data.loc[155]\n",
    "plot_data.iloc[0]"
   ]
  },
  {
   "cell_type": "code",
   "execution_count": null,
   "metadata": {},
   "outputs": [],
   "source": [
    "import matplotlib.pyplot as plt\n",
    "import numpy as np"
   ]
  },
  {
   "cell_type": "code",
   "execution_count": null,
   "metadata": {},
   "outputs": [],
   "source": [
    "def clear_all_figures():\n",
    "    for each in plt.get_fignums():\n",
    "        plt.close(each)\n",
    "\n",
    "#ml.score(features, labels, th, th0) # this is the number classified as positive"
   ]
  },
  {
   "cell_type": "code",
   "execution_count": null,
   "metadata": {},
   "outputs": [],
   "source": [
    "plot_data.iloc[0,:]"
   ]
  },
  {
   "cell_type": "code",
   "execution_count": null,
   "metadata": {},
   "outputs": [],
   "source": [
    "clear_all_figures()\n",
    "\n",
    "fig = plt.figure()\n",
    "path = plt.scatter(plot_data['created_at'], plot_data['flood_depth'], c=plot_data['c'], picker=True)\n",
    "ax = plt.gca()\n",
    "def onpick(event):\n",
    "    import textwrap\n",
    "    index = event.ind\n",
    "    row = plot_data.iloc[index[0]]\n",
    "    \n",
    "    res_list = textwrap.wrap(row.text,40) \n",
    "    res_str = ''\n",
    "    for each in res_list:\n",
    "        res_str += each + '\\n'\n",
    "        \n",
    "    ax.set_title(row.text)\n",
    "    \n",
    "    \n",
    "\n",
    "    \n",
    "plt.show()\n",
    "fig.canvas.mpl_connect('pick_event', onpick)"
   ]
  },
  {
   "cell_type": "code",
   "execution_count": null,
   "metadata": {},
   "outputs": [],
   "source": [
    "#for_projector = plot_data.copy()[:, ('text', 'predicted_flood')]\n",
    "#\n",
    "#copy_of_data = plot_data.copy()\n",
    "#for_projector['label'] = copy_of_data['predicted_flood']\n",
    "#\n",
    "#res_tsv = for_projector.to_csv( sep='\\t')\n",
    "#\n",
    "#for_projector"
   ]
  },
  {
   "cell_type": "code",
   "execution_count": null,
   "metadata": {},
   "outputs": [],
   "source": [
    "th.shape\n",
    "#vocab"
   ]
  },
  {
   "cell_type": "code",
   "execution_count": null,
   "metadata": {},
   "outputs": [],
   "source": [
    "# here's how to see the weight of a particular word,\n",
    "#index_of_water = vocab['water']\n",
    "#th[index_of_water, :] # if this is positive it is correlated w/ flooding\n",
    "#\n",
    "#th[vocab['flooded'], :] # if this is positive it is correlated w/ flooding\n",
    "\n",
    "how_pos = dict()\n",
    "reverse_dict = dict()\n",
    "for key, value in vocab.items():\n",
    "    print(key, value)\n",
    "    how_pos[key] = int(th[value, :])\n",
    "    reverse_dict[value] = key\n",
    "\n",
    "how_pos\n",
    "\n",
    "#for each in 'Nearby water body is overflowing'.lower().split():\n",
    "#    print(each + ' ' + str(how_pos[each]))\n",
    "    \n",
    "#for each in 'Spic Nagar rain water intrution from the velachery main road'.lower().split():\n",
    "#    print(each + ' ' + str(how_pos[each]))\n",
    "len(reverse_dict)\n",
    "len(vocab)"
   ]
  },
  {
   "cell_type": "code",
   "execution_count": null,
   "metadata": {},
   "outputs": [],
   "source": [
    "\n",
    "total_texts = loader.get_data()\n",
    "total_texts['text']\n"
   ]
  },
  {
   "cell_type": "code",
   "execution_count": null,
   "metadata": {},
   "outputs": [],
   "source": [
    "total_texts = loader.get_data()\n",
    "df = pd.DataFrame(features.T, index=total_texts.index)\n",
    "df.rename(columns=reverse_dict, inplace=True)\n",
    "vectors_tab = df.to_csv(sep='\\t', header=False, index=False)\n",
    "\n",
    "v = open('vectors.tsv', 'w')\n",
    "v.write(vectors_tab)\n",
    "v.close()\n",
    "\n",
    "def add_true_data(inp_df):\n",
    "    flood = __get_flood_pkeys(start_known_flood, end_known_flood, config['database_engine'])\n",
    "    no_flood = __get_no_flood_pkeys(start_known_flood, end_known_flood, config['database_engine'])\n",
    "    for pkey in flood:\n",
    "        inp_df.loc[ inp_df['pkey'] == pkey, 'true_flood'] = 1\n",
    "    \n",
    "    inp_df.loc[inp_df['true_flood'] != 1, 'true_flood'] = -1\n",
    "    \n",
    "\n",
    "meta_df = pd.DataFrame(df.index)\n",
    "\n",
    "add_true_data(meta_df)\n",
    "\n",
    "#meta_df = pd.DataFrame.merge(meta_df, )\n",
    "no_index = total_texts.reset_index().drop('pkey', axis=1)\n",
    "\n",
    "no_index['text'] = no_index['text'].str.replace('\\n','')\n",
    "meta_df = pd.concat([meta_df, no_index], axis=1, join='inner')\n",
    "#meta_df = meta_df.join(total_texts)\n",
    "#meta_df.append(total_texts)\n",
    "\n",
    "metadata = meta_df.to_csv(sep='\\t', index=False)\n",
    "\n",
    "f = open('metadata.tsv', 'w')\n",
    "f.write(metadata)\n",
    "f.close()\n",
    "#meta_df['pkey'] == 155\n",
    "#meta_df.loc[ meta_df['pkey'] == 155] = 1\n",
    "meta_df"
   ]
  },
  {
   "cell_type": "code",
   "execution_count": null,
   "metadata": {},
   "outputs": [],
   "source": [
    "def find_top_and_bot_n_words(n, index_to_word, th):\n",
    "#    if n < 0:\n",
    "#        n = len(index_to_word)-n\n",
    "    #partition = np.argpartition(th[:,0], [-n, n]) #[-n:]\n",
    "    #top_n_indicies = partition[-n:]\n",
    "    #bottom_n_indicies = partition[:n]\n",
    "    partition = np.argsort(th[:,0], axis=0) #[-n:]\n",
    "    top_n_indicies = partition[:n]\n",
    "    bottom_n_indicies = partition[-n:]\n",
    "    all_ind = np.hstack((top_n_indicies, bottom_n_indicies))\n",
    "    res =  []\n",
    "    for each in all_ind:\n",
    "        res.append((reverse_dict[each], th[each]))\n",
    "    return res\n",
    "    \n",
    "top = find_top_and_bot_n_words(200, reverse_dict, th)\n",
    "for each in top:\n",
    "    word, score = each\n",
    "    occ = occur[word]\n",
    "    freq = occ/len(occur)\n",
    "    print(each, freq)"
   ]
  },
  {
   "cell_type": "code",
   "execution_count": null,
   "metadata": {},
   "outputs": [],
   "source": [
    "a = np.argsort(th[:,0])\n",
    "th[a]"
   ]
  },
  {
   "cell_type": "code",
   "execution_count": null,
   "metadata": {},
   "outputs": [],
   "source": []
  }
 ],
 "metadata": {
  "kernelspec": {
   "display_name": "_python",
   "language": "python",
   "name": "_python"
  },
  "language_info": {
   "codemirror_mode": {
    "name": "ipython",
    "version": 3
   },
   "file_extension": ".py",
   "mimetype": "text/x-python",
   "name": "python",
   "nbconvert_exporter": "python",
   "pygments_lexer": "ipython3",
   "version": "3.5.2"
  }
 },
 "nbformat": 4,
 "nbformat_minor": 2
}
