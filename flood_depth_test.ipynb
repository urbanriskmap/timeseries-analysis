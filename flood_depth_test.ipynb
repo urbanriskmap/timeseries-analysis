{
 "cells": [
  {
   "cell_type": "code",
   "execution_count": 1,
   "metadata": {},
   "outputs": [
    {
     "name": "stderr",
     "output_type": "stream",
     "text": [
      "2019-08-13 05:28:15,891 - DEBUG - CognicityLoader constructed\n"
     ]
    }
   ],
   "source": [
    "import numpy as np\n",
    "import pandas as pd\n",
    "from loaders.cognicity_loader import CognicityLoader\n",
    "import chennai_config\n",
    "config = chennai_config.config\n",
    "\n",
    "# import jakarta_config\n",
    "# config = jakarta_config.config\n",
    "\n",
    "loader = CognicityLoader(config)"
   ]
  },
  {
   "cell_type": "code",
   "execution_count": 2,
   "metadata": {},
   "outputs": [
    {
     "name": "stderr",
     "output_type": "stream",
     "text": [
      "2019-08-13 05:28:15,899 - DEBUG - IdentityLabeler constructed\n"
     ]
    },
    {
     "data": {
      "text/plain": [
       "({'flood_depth': 0}, {0: 'flood_depth'})"
      ]
     },
     "execution_count": 2,
     "metadata": {},
     "output_type": "execute_result"
    }
   ],
   "source": [
    "from flood_depth.indentity_labeler import IdentityLabeler\n",
    "\n",
    "lab = IdentityLabeler(config, loader)\n",
    "\n",
    "lab.make_label_to_index({})\n"
   ]
  },
  {
   "cell_type": "code",
   "execution_count": 5,
   "metadata": {},
   "outputs": [
    {
     "name": "stderr",
     "output_type": "stream",
     "text": [
      "2019-08-13 05:28:56,861 - DEBUG - CognicityLoader constructed\n",
      "2019-08-13 05:28:56,863 - DEBUG - IdentityLabeler constructed\n",
      "2019-08-13 05:28:56,864 - DEBUG - CognicityLoader constructed\n",
      "2019-08-13 05:28:56,864 - DEBUG - IdentityLabeler constructed\n"
     ]
    }
   ],
   "source": [
    "from learners.perceptron_learner import PerceptronLearner\n",
    "from learners.identity_learner import IdentityLearner\n",
    "\n",
    "# learn = PerceptronLearner(config, CognicityLoader, IdentityLabeler)\n",
    "learn  = IdentityLearner(config, CognicityLoader, IdentityLabeler)"
   ]
  },
  {
   "cell_type": "code",
   "execution_count": 6,
   "metadata": {},
   "outputs": [],
   "source": [
    "import random\n",
    "validation_set = set(random.sample(config[\"flood_pkeys\"], 5))\n",
    "validation_set = validation_set.union(set(random.sample(config[\"no_flood_pkeys\"], 5)))\n",
    "th, th0 = learn.run_learner('depth_test.p', validation_keys=validation_set, rerun=True, params={\"print\":True, \"T\":1000})"
   ]
  },
  {
   "cell_type": "code",
   "execution_count": 8,
   "metadata": {},
   "outputs": [
    {
     "data": {
      "text/plain": [
       "array([[ 42.,  46.,  72.,  44.,  14.,  25.,  76.,   2.,   0.,   0.,  95.,\n",
       "         30.,  76.,  15.,  40.,   0.,  45.,   0.,  46.,  50.,  38.,  66.,\n",
       "         30.,  43.,  31.,   0.,  18.,  35.,  81.,  40.,  30.,  40.,  41.,\n",
       "         56.,  46.,  35.,  49.,  37.,  87.,  81.,  57.,  62.,   8.,  60.,\n",
       "         19.,  32.,  41.,  35.,   0.,   5.,  41.,  30.,  30.,  78.,  21.,\n",
       "         43.,  64.,  14.,  56.,  56.,  60.,  44.,  24.,  47.,  50.,  50.,\n",
       "         58.,  37.,  35.,  25.,  26.,  33.,  57.,  47.,  34.,   0.,  36.,\n",
       "         32.,  20.,  16.,  79.,  40.,   1.,  31.,  54.,  38.,  60.,  28.,\n",
       "         49.,  30.,  29.,  34.,  45.,  83.,  40.,  59.,  46.,  50.,  70.,\n",
       "         60.,  76., 100.,  50.,  79.,  44.,   1.,  96.,  85.,  56.,  80.,\n",
       "         20.,  34.,  30.,  80.,  30.,  48.,  20.,  31.,  62.,  81.,  49.,\n",
       "         77.,  40.,  81.,  60.,  60.,  33.,  41.,  40.,  37.,  59.,  30.,\n",
       "         99.,  30.,  31., 130.,  70., 131.,  76.,  68.,  67.,  44.,  41.,\n",
       "         66.,   0.,  28.,  74.,  95.,  90.,  55.,  40.,  26.,  19.,  41.,\n",
       "         61.,  49.,  31.,  29.,  60.,  59.,  84.,  20.,  25.,  22.,  31.,\n",
       "         36.,  68.,  30.,   3.,   1.,  25.,  46.,  46.,  59.,  47.,  60.,\n",
       "         44.,   1.,  54.,  46.,  21.,   0.,  44.,  27.,  27.,  56.,  66.,\n",
       "         32.,  55.,  25.,  21.,  36.,   9.,  26.,  31.,  54.,  36.,   5.,\n",
       "         49.,  10.,  50.,  39.,  35.,  52.,  23.,  24.,  26.,  30.,   0.,\n",
       "         77.,  50.,  25.,  63.,   0.,  34.,  11.,   1.,  60.,  52.,  50.,\n",
       "          0.,  52.,   0.,  24.,   1.,  19.,  12.,   1.,  14.,  14.,  23.,\n",
       "         36.,  40.,  23.,  23.,   9.,  50.,  51.,  16.,  18.,  14.,  23.,\n",
       "         27.,  16.,  27.,  12.,   1.,   1.,   1.,   8.,   1.,  40.,  24.,\n",
       "         36.,   3.,  10.,  60.,  91.,  38.,   8.,  46.,  43.,  72.,  32.,\n",
       "         58.,  40.,  59.,   0.,  16.,  32.,   0.,  54.,   1.,  31.,  39.,\n",
       "         13., 195.,  93.,   0.,  95.,  83.,   0.,  22.,  27.,   0.,   0.,\n",
       "          0.,  34.,  29.,  13.,  40.,  62.,   0.,  14.,  44.,   0.,  51.,\n",
       "         25.,  19.,  20.,   0.,  39.,  55.,  20.,   0.,  30.,   0.,  17.,\n",
       "         48.,   9.,  56.,  25.,  31.,  35.,  44.,  19.,  41.,  25.,  20.,\n",
       "         29.,  31.,  48.,  53.,  23.,  14.,   0.,  45.,  38.,  26.,  60.,\n",
       "          0.,  12.,   0.,  36.,   0.,  26.,  11.,  28.,  17.,   7.,  30.,\n",
       "          0.,  53.,   0.,  52.,  30.]])"
      ]
     },
     "execution_count": 8,
     "metadata": {},
     "output_type": "execute_result"
    }
   ],
   "source": [
    "df = learn.loader.get_flood_depths()\n",
    "df.loc[df.flood_depth > 0]\n",
    "\n",
    "learn.val_data_w_pkey\n",
    "learn.val_labels\n",
    "learn.t_sd"
   ]
  },
  {
   "cell_type": "code",
   "execution_count": null,
   "metadata": {},
   "outputs": [],
   "source": [
    "import numpy as np\n",
    "\n",
    "np.dot(th.T, learn.val_data_w_pkey[1:, :]) + th0"
   ]
  },
  {
   "cell_type": "code",
   "execution_count": null,
   "metadata": {},
   "outputs": [],
   "source": [
    "from image_recognition.perceptron import perceptron\n",
    "import numpy as np\n",
    "\n",
    "data = learn.t_data_w_pkey[1:,:]\n",
    "data = data/ np.linalg.norm(data, ord=2)\n",
    "labels = learn.t_labels\n",
    "th, th0 = perceptron(data, labels, params={\"print\":True, \"T\":1000})"
   ]
  },
  {
   "cell_type": "code",
   "execution_count": null,
   "metadata": {
    "scrolled": true
   },
   "outputs": [],
   "source": [
    "th, th0"
   ]
  },
  {
   "cell_type": "code",
   "execution_count": null,
   "metadata": {},
   "outputs": [],
   "source": [
    "np.dot(th.T, learn.val_data_w_pkey[1:, :]) + th0"
   ]
  },
  {
   "cell_type": "code",
   "execution_count": null,
   "metadata": {},
   "outputs": [],
   "source": []
  }
 ],
 "metadata": {
  "kernelspec": {
   "display_name": "_python",
   "language": "python",
   "name": "_python"
  },
  "language_info": {
   "codemirror_mode": {
    "name": "ipython",
    "version": 3
   },
   "file_extension": ".py",
   "mimetype": "text/x-python",
   "name": "python",
   "nbconvert_exporter": "python",
   "pygments_lexer": "ipython3",
   "version": "3.5.2"
  }
 },
 "nbformat": 4,
 "nbformat_minor": 2
}
